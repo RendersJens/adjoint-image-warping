{
 "cells": [
  {
   "cell_type": "markdown",
   "metadata": {},
   "source": [
    "1D cubic spline coefficients:\n",
    "============================="
   ]
  },
  {
   "cell_type": "code",
   "execution_count": 1,
   "metadata": {},
   "outputs": [],
   "source": [
    "from itertools import product\n",
    "import numpy as np"
   ]
  },
  {
   "cell_type": "markdown",
   "metadata": {},
   "source": [
    "Let $f:\\mathbb{Z} \\to \\mathbb{R}$ be a function we want to fit.\n",
    "\n",
    "A cubic spline between data points $x_1 \\in \\mathbb{Z}$ and $x_2 = x_1 + 1$ is a cubic polynomial that somewhat agrees with $f$. It is most easy to work on the interval $[0, 1]$ by shifting, so instead of working with polynomials which are a function of $x$, we write them in terms of $x-x_1$. We represent this in abstractly as `xmx1`. We  also include `ymy1` and `zmz1` for the higher dimensions later.\n",
    "\n",
    "The coefficients of this polynomial can be found by solving linear equations that put constraints on our polynomial. A popular choice is the Catmull-Rom spline, which demands that the polynomial agrees with $f$ in $x_1$ and $x_2$, and that the derivative of the polynomial in those points is equal to the central differences derivative of $f$ in the same points. As a result, the coefficients are linear combinations of the function values in the 4 points surrounding the interval $[x_1, x_2]$. We will represent these function values abstracly as `f0, f1, f2, f3`\n",
    "\n",
    "So the polynomial of `xmx1` we are looking for has coefficients that are linear combinations of `f0, f1, f2, f3`. This is the same as a linear combination of `f0, f1, f2, f3` with coefficients that are polynomials of `xmx1`. We will work with this representation from the beginning."
   ]
  },
  {
   "cell_type": "code",
   "execution_count": 2,
   "metadata": {},
   "outputs": [],
   "source": [
    "# the coefficients which are polynomials of xmx1 are in this ring\n",
    "S.<xmx1, ymy1, zmz1> = PolynomialRing(QQ)\n",
    "\n",
    "# the linear combination of f0, f1, f2, f3 we are looking for\n",
    "# is in this ring (whith coefficients in the previous ring), with homogenous degree one\n",
    "R.<f0,f1,f2,f3> = PolynomialRing(S)\n",
    "\n",
    "# the central differences in x1 and x2\n",
    "df1 = (f2 - f0)/2\n",
    "df2 = (f3 - f1)/2"
   ]
  },
  {
   "cell_type": "markdown",
   "metadata": {},
   "source": [
    "We look for the unknown polynomial of the form\n",
    "\n",
    "$p(x-x_1) = c_0 (x-x_1)^3 - c_1 (x-x_1)^2 + c_2 (x-x_1) + c_3$\n",
    "\n",
    "on which we demand\n",
    "\n",
    " - $p(0) = f_1$\n",
    " - $p(1) = f_2$\n",
    " - $p'(0) = (f_2 - f_0)/2$\n",
    " - $p'(1) = (f_3 - f_1)/2$"
   ]
  },
  {
   "cell_type": "code",
   "execution_count": 3,
   "metadata": {},
   "outputs": [
    {
     "data": {
      "text/html": [
       "<html><script type=\"math/tex; mode=display\">\\newcommand{\\Bold}[1]{\\mathbf{#1}}\\left(\\begin{array}{rrrr}\n",
       "0 & 0 & 0 & 1 \\\\\n",
       "1 & 1 & 1 & 1 \\\\\n",
       "0 & 0 & 1 & 0 \\\\\n",
       "3 & 2 & 1 & 0\n",
       "\\end{array}\\right) c = \\left(\\begin{array}{r}\n",
       "f_{1} \\\\\n",
       "f_{2} \\\\\n",
       "\\left(-\\frac{1}{2}\\right) f_{0} + \\frac{1}{2} f_{2} \\\\\n",
       "\\left(-\\frac{1}{2}\\right) f_{1} + \\frac{1}{2} f_{3}\n",
       "\\end{array}\\right)</script></html>"
      ],
      "text/plain": [
       "[0 0 0 1]\n",
       "[1 1 1 1]\n",
       "[0 0 1 0]\n",
       "[3 2 1 0] c = [                f1]\n",
       "[                f2]\n",
       "[(-1/2)*f0 + 1/2*f2]\n",
       "[(-1/2)*f1 + 1/2*f3]"
      ]
     },
     "metadata": {},
     "output_type": "display_data"
    }
   ],
   "source": [
    "# this system represents the constraints above\n",
    "A = Matrix(R, [[0, 0, 0, 1],\n",
    "               [1, 1, 1, 1],\n",
    "               [0, 0, 1, 0],\n",
    "               [3, 2, 1, 0]])\n",
    "b = vector(R, [f1, f2, df1, df2])\n",
    "\n",
    "pretty_print(A, LatexExpr(\"c =\"), Matrix(b).T)"
   ]
  },
  {
   "cell_type": "code",
   "execution_count": 4,
   "metadata": {},
   "outputs": [
    {
     "name": "stdout",
     "output_type": "stream",
     "text": [
      "[1, 1, 1, 1]\n"
     ]
    }
   ],
   "source": [
    "# we solve this system to get the unknown coefficients\n",
    "c = A \\ b\n",
    "\n",
    "# the coefficients of c are now in the fraction field of S, but the denominators are all 1\n",
    "# indeed:\n",
    "print(list(map(lambda x: x.denominator(), c)))"
   ]
  },
  {
   "cell_type": "code",
   "execution_count": 5,
   "metadata": {},
   "outputs": [
    {
     "name": "stdout",
     "output_type": "stream",
     "text": [
      "(-1/2*xmx1^3 + xmx1^2 - 1/2*xmx1)*f0 + (3/2*xmx1^3 - 5/2*xmx1^2 + 1)*f1 + (-3/2*xmx1^3 + 2*xmx1^2 + 1/2*xmx1)*f2 + (1/2*xmx1^3 - 1/2*xmx1^2)*f3\n"
     ]
    }
   ],
   "source": [
    "# so we can just take the numerators\n",
    "c = list(map(lambda x: x.numerator(), c))\n",
    "\n",
    "# this is the polynomial we where looking for\n",
    "p = c[0]*(xmx1)^3 + c[1] * (xmx1)^2 + c[2]*(xmx1) + c[3]\n",
    "\n",
    "# and because of the used ring structure, sage automatically writes this as a linear\n",
    "# combination of f0,f1,f2,f3 with coefficients that are polynomials of xmx1\n",
    "print(p)"
   ]
  },
  {
   "cell_type": "markdown",
   "metadata": {},
   "source": [
    "2D cubic spline coefficients\n",
    "============================"
   ]
  },
  {
   "cell_type": "markdown",
   "metadata": {},
   "source": [
    "The same thing can be done in 2D. There are now 16 function values that determine the spline."
   ]
  },
  {
   "cell_type": "code",
   "execution_count": 6,
   "metadata": {},
   "outputs": [
    {
     "name": "stdout",
     "output_type": "stream",
     "text": [
      "Defining f00, f10, f20, f30, f01, f11, f21, f31, f02, f12, f22, f32, f03, f13, f23, f33\n"
     ]
    },
    {
     "data": {
      "text/plain": [
       "array([[f00, f10, f20, f30],\n",
       "       [f01, f11, f21, f31],\n",
       "       [f02, f12, f22, f32],\n",
       "       [f03, f13, f23, f33]], dtype=object)"
      ]
     },
     "execution_count": 6,
     "metadata": {},
     "output_type": "execute_result"
    }
   ],
   "source": [
    "R2 = PolynomialRing(S, ['f{}{}'.format(j,i) for i,j in product(*[range(4)]*2)])\n",
    "R2.inject_variables()\n",
    "R2_vars = np.array(R2.gens()).reshape((-1,4))\n",
    "R2_vars"
   ]
  },
  {
   "cell_type": "code",
   "execution_count": 7,
   "metadata": {},
   "outputs": [
    {
     "data": {
      "text/plain": [
       "(-1/2*ymy1^3 + ymy1^2 - 1/2*ymy1)*f0 + (3/2*ymy1^3 - 5/2*ymy1^2 + 1)*f1 + (-3/2*ymy1^3 + 2*ymy1^2 + 1/2*ymy1)*f2 + (1/2*ymy1^3 - 1/2*ymy1^2)*f3"
      ]
     },
     "execution_count": 7,
     "metadata": {},
     "output_type": "execute_result"
    }
   ],
   "source": [
    "#rewrite the 1D spline in terms of ymy1\n",
    "py = 0\n",
    "for mon in [f0, f1, f2, f3]:\n",
    "    py += p.monomial_coefficient(mon)(ymy1, 0, 0)*mon\n",
    "py"
   ]
  },
  {
   "cell_type": "code",
   "execution_count": 8,
   "metadata": {},
   "outputs": [
    {
     "name": "stdout",
     "output_type": "stream",
     "text": [
      "f00:1/4*xmx1**3*ymy1**3 - 1/2*xmx1**3*ymy1**2 - 1/2*xmx1**2*ymy1**3 + 1/4*xmx1**3*ymy1 + xmx1**2*ymy1**2 + 1/4*xmx1*ymy1**3 - 1/2*xmx1**2*ymy1 - 1/2*xmx1*ymy1**2 + 1/4*xmx1*ymy1\n",
      "f10:-3/4*xmx1**3*ymy1**3 + 3/2*xmx1**3*ymy1**2 + 5/4*xmx1**2*ymy1**3 - 3/4*xmx1**3*ymy1 - 5/2*xmx1**2*ymy1**2 + 5/4*xmx1**2*ymy1 - 1/2*ymy1**3 + ymy1**2 - 1/2*ymy1\n",
      "f20:3/4*xmx1**3*ymy1**3 - 3/2*xmx1**3*ymy1**2 - xmx1**2*ymy1**3 + 3/4*xmx1**3*ymy1 + 2*xmx1**2*ymy1**2 - 1/4*xmx1*ymy1**3 - xmx1**2*ymy1 + 1/2*xmx1*ymy1**2 - 1/4*xmx1*ymy1\n",
      "f30:-1/4*xmx1**3*ymy1**3 + 1/2*xmx1**3*ymy1**2 + 1/4*xmx1**2*ymy1**3 - 1/4*xmx1**3*ymy1 - 1/2*xmx1**2*ymy1**2 + 1/4*xmx1**2*ymy1\n",
      "f01:-3/4*xmx1**3*ymy1**3 + 5/4*xmx1**3*ymy1**2 + 3/2*xmx1**2*ymy1**3 - 5/2*xmx1**2*ymy1**2 - 3/4*xmx1*ymy1**3 - 1/2*xmx1**3 + 5/4*xmx1*ymy1**2 + xmx1**2 - 1/2*xmx1\n",
      "f11:9/4*xmx1**3*ymy1**3 - 15/4*xmx1**3*ymy1**2 - 15/4*xmx1**2*ymy1**3 + 25/4*xmx1**2*ymy1**2 + 3/2*xmx1**3 + 3/2*ymy1**3 - 5/2*xmx1**2 - 5/2*ymy1**2 + 1\n",
      "f21:-9/4*xmx1**3*ymy1**3 + 15/4*xmx1**3*ymy1**2 + 3*xmx1**2*ymy1**3 - 5*xmx1**2*ymy1**2 + 3/4*xmx1*ymy1**3 - 3/2*xmx1**3 - 5/4*xmx1*ymy1**2 + 2*xmx1**2 + 1/2*xmx1\n",
      "f31:3/4*xmx1**3*ymy1**3 - 5/4*xmx1**3*ymy1**2 - 3/4*xmx1**2*ymy1**3 + 5/4*xmx1**2*ymy1**2 + 1/2*xmx1**3 - 1/2*xmx1**2\n",
      "f02:3/4*xmx1**3*ymy1**3 - xmx1**3*ymy1**2 - 3/2*xmx1**2*ymy1**3 - 1/4*xmx1**3*ymy1 + 2*xmx1**2*ymy1**2 + 3/4*xmx1*ymy1**3 + 1/2*xmx1**2*ymy1 - xmx1*ymy1**2 - 1/4*xmx1*ymy1\n",
      "f12:-9/4*xmx1**3*ymy1**3 + 3*xmx1**3*ymy1**2 + 15/4*xmx1**2*ymy1**3 + 3/4*xmx1**3*ymy1 - 5*xmx1**2*ymy1**2 - 5/4*xmx1**2*ymy1 - 3/2*ymy1**3 + 2*ymy1**2 + 1/2*ymy1\n",
      "f22:9/4*xmx1**3*ymy1**3 - 3*xmx1**3*ymy1**2 - 3*xmx1**2*ymy1**3 - 3/4*xmx1**3*ymy1 + 4*xmx1**2*ymy1**2 - 3/4*xmx1*ymy1**3 + xmx1**2*ymy1 + xmx1*ymy1**2 + 1/4*xmx1*ymy1\n",
      "f32:-3/4*xmx1**3*ymy1**3 + xmx1**3*ymy1**2 + 3/4*xmx1**2*ymy1**3 + 1/4*xmx1**3*ymy1 - xmx1**2*ymy1**2 - 1/4*xmx1**2*ymy1\n",
      "f03:-1/4*xmx1**3*ymy1**3 + 1/4*xmx1**3*ymy1**2 + 1/2*xmx1**2*ymy1**3 - 1/2*xmx1**2*ymy1**2 - 1/4*xmx1*ymy1**3 + 1/4*xmx1*ymy1**2\n",
      "f13:3/4*xmx1**3*ymy1**3 - 3/4*xmx1**3*ymy1**2 - 5/4*xmx1**2*ymy1**3 + 5/4*xmx1**2*ymy1**2 + 1/2*ymy1**3 - 1/2*ymy1**2\n",
      "f23:-3/4*xmx1**3*ymy1**3 + 3/4*xmx1**3*ymy1**2 + xmx1**2*ymy1**3 - xmx1**2*ymy1**2 + 1/4*xmx1*ymy1**3 - 1/4*xmx1*ymy1**2\n",
      "f33:1/4*xmx1**3*ymy1**3 - 1/4*xmx1**3*ymy1**2 - 1/4*xmx1**2*ymy1**3 + 1/4*xmx1**2*ymy1**2\n"
     ]
    }
   ],
   "source": [
    "#evaluate the 1D interpolation 4 times in the x direction, each time for a different y value\n",
    "b0 = p(*R2_vars[0])\n",
    "b1 = p(*R2_vars[1])\n",
    "b2 = p(*R2_vars[2])\n",
    "b3 = p(*R2_vars[3])\n",
    "\n",
    "# now interpolate these interpolations in the y direction\n",
    "p2 = py(f0=b0, f1=b1, f2=b2, f3=b3)\n",
    "\n",
    "# the resulting polynomial is quite big already.\n",
    "# again, sage already understands this as a linear combination\n",
    "# of the 16 function values, with polynomials as coefficients.\n",
    "# we can print each of those polynomials separately\n",
    "for mon in R2.gens():\n",
    "    print(str(mon) + \":\" + str(p2.monomial_coefficient(mon)).replace(\"^\", \"**\"))"
   ]
  },
  {
   "cell_type": "markdown",
   "metadata": {},
   "source": [
    "These polynomials can be hardcoded in the cuda kernels, but it is more convinient to store there coefficients in a file."
   ]
  },
  {
   "cell_type": "code",
   "execution_count": 9,
   "metadata": {},
   "outputs": [
    {
     "data": {
      "text/plain": [
       "'0.0, 0.0, 0.0, 0.0, 0.0, 0.25, -0.5, 0.25, 0.0, -0.5, 1.0, -0.5, 0.0, 0.25, -0.5, 0.25, 0.0, -0.5, 1.0, -0.5, 0.0, 0.0, 0.0, 0.0, 0.0, 1.25, -2.5, 1.25, 0.0, -0.75, 1.5, -0.75, 0.0, 0.0, 0.0, 0.0, 0.0, -0.25, 0.5, -0.25, 0.0, -1.0, 2.0, -1.0, 0.0, 0.75, -1.5, 0.75, 0.0, 0.0, 0.0, 0.0, 0.0, 0.0, 0.0, 0.0, 0.0, 0.25, -0.5, 0.25, 0.0, -0.25, 0.5, -0.25, 0.0, 0.0, 0.0, 0.0, -0.5, 0.0, 1.25, -0.75, 1.0, 0.0, -2.5, 1.5, -0.5, 0.0, 1.25, -0.75, 1.0, 0.0, -2.5, 1.5, 0.0, 0.0, 0.0, 0.0, -2.5, 0.0, 6.25, -3.75, 1.5, 0.0, -3.75, 2.25, 0.0, 0.0, 0.0, 0.0, 0.5, 0.0, -1.25, 0.75, 2.0, 0.0, -5.0, 3.0, -1.5, 0.0, 3.75, -2.25, 0.0, 0.0, 0.0, 0.0, 0.0, 0.0, 0.0, 0.0, -0.5, 0.0, 1.25, -0.75, 0.5, 0.0, -1.25, 0.75, 0.0, 0.0, 0.0, 0.0, 0.0, -0.25, -1.0, 0.75, 0.0, 0.5, 2.0, -1.5, 0.0, -0.25, -1.0, 0.75, 0.0, 0.5, 2.0, -1.5, 0.0, 0.0, 0.0, 0.0, 0.0, -1.25, -5.0, 3.75, 0.0, 0.75, 3.0, -2.25, 0.0, 0.0, 0.0, 0.0, 0.0, 0.25, 1.0, -0.75, 0.0, 1.0, 4.0, -3.0, 0.0, -0.75, -3.0, 2.25, 0.0, 0.0, 0.0, 0.0, 0.0, 0.0, 0.0, 0.0, 0.0, -0.25, -1.0, 0.75, 0.0, 0.25, 1.0, -0.75, 0.0, 0.0, 0.0, 0.0, 0.0, 0.0, 0.25, -0.25, 0.0, 0.0, -0.5, 0.5, 0.0, 0.0, 0.25, -0.25, 0.0, 0.0, -0.5, 0.5, 0.0, 0.0, 0.0, 0.0, 0.0, 0.0, 1.25, -1.25, 0.0, 0.0, -0.75, 0.75, 0.0, 0.0, 0.0, 0.0, 0.0, 0.0, -0.25, 0.25, 0.0, 0.0, -1.0, 1.0, 0.0, 0.0, 0.75, -0.75, 0.0, 0.0, 0.0, 0.0, 0.0, 0.0, 0.0, 0.0, 0.0, 0.0, 0.25, -0.25, 0.0, 0.0, -0.25, 0.25'"
      ]
     },
     "execution_count": 9,
     "metadata": {},
     "output_type": "execute_result"
    }
   ],
   "source": [
    "pos_mons = [xmx1^i*ymy1^j for i,j in product(*[range(4)]*2)]\n",
    "M = Matrix([[p2.monomial_coefficient(val_mon).monomial_coefficient(pos_mon) for pos_mon in pos_mons] for val_mon in R2.gens()])\n",
    "coeff_string = str(list(np.array(M).ravel()))[1:-1]\n",
    "coeff_string"
   ]
  },
  {
   "cell_type": "code",
   "execution_count": 10,
   "metadata": {},
   "outputs": [],
   "source": [
    "with open(\"cubic_2D_coefficients.inc\", \"w\") as file:\n",
    "    file.write(coeff_string)"
   ]
  },
  {
   "cell_type": "markdown",
   "metadata": {},
   "source": [
    "3D cubic spline coefficients\n",
    "============================"
   ]
  },
  {
   "cell_type": "code",
   "execution_count": 11,
   "metadata": {},
   "outputs": [
    {
     "name": "stdout",
     "output_type": "stream",
     "text": [
      "Defining f000, f100, f200, f300, f010, f110, f210, f310, f020, f120, f220, f320, f030, f130, f230, f330, f001, f101, f201, f301, f011, f111, f211, f311, f021, f121, f221, f321, f031, f131, f231, f331, f002, f102, f202, f302, f012, f112, f212, f312, f022, f122, f222, f322, f032, f132, f232, f332, f003, f103, f203, f303, f013, f113, f213, f313, f023, f123, f223, f323, f033, f133, f233, f333\n"
     ]
    },
    {
     "data": {
      "text/plain": [
       "array([[f000, f100, f200, f300, f010, f110, f210, f310, f020, f120, f220,\n",
       "        f320, f030, f130, f230, f330],\n",
       "       [f001, f101, f201, f301, f011, f111, f211, f311, f021, f121, f221,\n",
       "        f321, f031, f131, f231, f331],\n",
       "       [f002, f102, f202, f302, f012, f112, f212, f312, f022, f122, f222,\n",
       "        f322, f032, f132, f232, f332],\n",
       "       [f003, f103, f203, f303, f013, f113, f213, f313, f023, f123, f223,\n",
       "        f323, f033, f133, f233, f333]], dtype=object)"
      ]
     },
     "execution_count": 11,
     "metadata": {},
     "output_type": "execute_result"
    }
   ],
   "source": [
    "R3 = PolynomialRing(S, ['f{}{}{}'.format(k,j,i) for i,j,k in product(*[range(4)]*3)])\n",
    "R3.inject_variables()\n",
    "R3_vars = np.array(R3.gens()).reshape((4,-1))\n",
    "R3_vars"
   ]
  },
  {
   "cell_type": "code",
   "execution_count": 12,
   "metadata": {},
   "outputs": [
    {
     "data": {
      "text/plain": [
       "(-1/2*zmz1^3 + zmz1^2 - 1/2*zmz1)*f0 + (3/2*zmz1^3 - 5/2*zmz1^2 + 1)*f1 + (-3/2*zmz1^3 + 2*zmz1^2 + 1/2*zmz1)*f2 + (1/2*zmz1^3 - 1/2*zmz1^2)*f3"
      ]
     },
     "execution_count": 12,
     "metadata": {},
     "output_type": "execute_result"
    }
   ],
   "source": [
    "pz = 0\n",
    "for mon in [f0, f1, f2, f3]:\n",
    "    pz += p.monomial_coefficient(mon)(zmz1, 0, 0)*mon\n",
    "pz"
   ]
  },
  {
   "cell_type": "code",
   "execution_count": 13,
   "metadata": {
    "scrolled": true
   },
   "outputs": [
    {
     "name": "stdout",
     "output_type": "stream",
     "text": [
      "f000:-1/8*xmx1^3*ymy1^3*zmz1^3 + 1/4*xmx1^3*ymy1^3*zmz1^2 + 1/4*xmx1^3*ymy1^2*zmz1^3 + 1/4*xmx1^2*ymy1^3*zmz1^3 - 1/8*xmx1^3*ymy1^3*zmz1 - 1/2*xmx1^3*ymy1^2*zmz1^2 - 1/2*xmx1^2*ymy1^3*zmz1^2 - 1/8*xmx1^3*ymy1*zmz1^3 - 1/2*xmx1^2*ymy1^2*zmz1^3 - 1/8*xmx1*ymy1^3*zmz1^3 + 1/4*xmx1^3*ymy1^2*zmz1 + 1/4*xmx1^2*ymy1^3*zmz1 + 1/4*xmx1^3*ymy1*zmz1^2 + xmx1^2*ymy1^2*zmz1^2 + 1/4*xmx1*ymy1^3*zmz1^2 + 1/4*xmx1^2*ymy1*zmz1^3 + 1/4*xmx1*ymy1^2*zmz1^3 - 1/8*xmx1^3*ymy1*zmz1 - 1/2*xmx1^2*ymy1^2*zmz1 - 1/8*xmx1*ymy1^3*zmz1 - 1/2*xmx1^2*ymy1*zmz1^2 - 1/2*xmx1*ymy1^2*zmz1^2 - 1/8*xmx1*ymy1*zmz1^3 + 1/4*xmx1^2*ymy1*zmz1 + 1/4*xmx1*ymy1^2*zmz1 + 1/4*xmx1*ymy1*zmz1^2 - 1/8*xmx1*ymy1*zmz1\n",
      "f100:3/8*xmx1^3*ymy1^3*zmz1^3 - 3/4*xmx1^3*ymy1^3*zmz1^2 - 3/4*xmx1^3*ymy1^2*zmz1^3 - 5/8*xmx1^2*ymy1^3*zmz1^3 + 3/8*xmx1^3*ymy1^3*zmz1 + 3/2*xmx1^3*ymy1^2*zmz1^2 + 5/4*xmx1^2*ymy1^3*zmz1^2 + 3/8*xmx1^3*ymy1*zmz1^3 + 5/4*xmx1^2*ymy1^2*zmz1^3 - 3/4*xmx1^3*ymy1^2*zmz1 - 5/8*xmx1^2*ymy1^3*zmz1 - 3/4*xmx1^3*ymy1*zmz1^2 - 5/2*xmx1^2*ymy1^2*zmz1^2 - 5/8*xmx1^2*ymy1*zmz1^3 + 1/4*ymy1^3*zmz1^3 + 3/8*xmx1^3*ymy1*zmz1 + 5/4*xmx1^2*ymy1^2*zmz1 + 5/4*xmx1^2*ymy1*zmz1^2 - 1/2*ymy1^3*zmz1^2 - 1/2*ymy1^2*zmz1^3 - 5/8*xmx1^2*ymy1*zmz1 + 1/4*ymy1^3*zmz1 + ymy1^2*zmz1^2 + 1/4*ymy1*zmz1^3 - 1/2*ymy1^2*zmz1 - 1/2*ymy1*zmz1^2 + 1/4*ymy1*zmz1\n",
      "f200:-3/8*xmx1^3*ymy1^3*zmz1^3 + 3/4*xmx1^3*ymy1^3*zmz1^2 + 3/4*xmx1^3*ymy1^2*zmz1^3 + 1/2*xmx1^2*ymy1^3*zmz1^3 - 3/8*xmx1^3*ymy1^3*zmz1 - 3/2*xmx1^3*ymy1^2*zmz1^2 - xmx1^2*ymy1^3*zmz1^2 - 3/8*xmx1^3*ymy1*zmz1^3 - xmx1^2*ymy1^2*zmz1^3 + 1/8*xmx1*ymy1^3*zmz1^3 + 3/4*xmx1^3*ymy1^2*zmz1 + 1/2*xmx1^2*ymy1^3*zmz1 + 3/4*xmx1^3*ymy1*zmz1^2 + 2*xmx1^2*ymy1^2*zmz1^2 - 1/4*xmx1*ymy1^3*zmz1^2 + 1/2*xmx1^2*ymy1*zmz1^3 - 1/4*xmx1*ymy1^2*zmz1^3 - 3/8*xmx1^3*ymy1*zmz1 - xmx1^2*ymy1^2*zmz1 + 1/8*xmx1*ymy1^3*zmz1 - xmx1^2*ymy1*zmz1^2 + 1/2*xmx1*ymy1^2*zmz1^2 + 1/8*xmx1*ymy1*zmz1^3 + 1/2*xmx1^2*ymy1*zmz1 - 1/4*xmx1*ymy1^2*zmz1 - 1/4*xmx1*ymy1*zmz1^2 + 1/8*xmx1*ymy1*zmz1\n",
      "f300:1/8*xmx1^3*ymy1^3*zmz1^3 - 1/4*xmx1^3*ymy1^3*zmz1^2 - 1/4*xmx1^3*ymy1^2*zmz1^3 - 1/8*xmx1^2*ymy1^3*zmz1^3 + 1/8*xmx1^3*ymy1^3*zmz1 + 1/2*xmx1^3*ymy1^2*zmz1^2 + 1/4*xmx1^2*ymy1^3*zmz1^2 + 1/8*xmx1^3*ymy1*zmz1^3 + 1/4*xmx1^2*ymy1^2*zmz1^3 - 1/4*xmx1^3*ymy1^2*zmz1 - 1/8*xmx1^2*ymy1^3*zmz1 - 1/4*xmx1^3*ymy1*zmz1^2 - 1/2*xmx1^2*ymy1^2*zmz1^2 - 1/8*xmx1^2*ymy1*zmz1^3 + 1/8*xmx1^3*ymy1*zmz1 + 1/4*xmx1^2*ymy1^2*zmz1 + 1/4*xmx1^2*ymy1*zmz1^2 - 1/8*xmx1^2*ymy1*zmz1\n",
      "f010:3/8*xmx1^3*ymy1^3*zmz1^3 - 3/4*xmx1^3*ymy1^3*zmz1^2 - 5/8*xmx1^3*ymy1^2*zmz1^3 - 3/4*xmx1^2*ymy1^3*zmz1^3 + 3/8*xmx1^3*ymy1^3*zmz1 + 5/4*xmx1^3*ymy1^2*zmz1^2 + 3/2*xmx1^2*ymy1^3*zmz1^2 + 5/4*xmx1^2*ymy1^2*zmz1^3 + 3/8*xmx1*ymy1^3*zmz1^3 - 5/8*xmx1^3*ymy1^2*zmz1 - 3/4*xmx1^2*ymy1^3*zmz1 - 5/2*xmx1^2*ymy1^2*zmz1^2 - 3/4*xmx1*ymy1^3*zmz1^2 + 1/4*xmx1^3*zmz1^3 - 5/8*xmx1*ymy1^2*zmz1^3 + 5/4*xmx1^2*ymy1^2*zmz1 + 3/8*xmx1*ymy1^3*zmz1 - 1/2*xmx1^3*zmz1^2 + 5/4*xmx1*ymy1^2*zmz1^2 - 1/2*xmx1^2*zmz1^3 + 1/4*xmx1^3*zmz1 - 5/8*xmx1*ymy1^2*zmz1 + xmx1^2*zmz1^2 + 1/4*xmx1*zmz1^3 - 1/2*xmx1^2*zmz1 - 1/2*xmx1*zmz1^2 + 1/4*xmx1*zmz1\n",
      "f110:-9/8*xmx1^3*ymy1^3*zmz1^3 + 9/4*xmx1^3*ymy1^3*zmz1^2 + 15/8*xmx1^3*ymy1^2*zmz1^3 + 15/8*xmx1^2*ymy1^3*zmz1^3 - 9/8*xmx1^3*ymy1^3*zmz1 - 15/4*xmx1^3*ymy1^2*zmz1^2 - 15/4*xmx1^2*ymy1^3*zmz1^2 - 25/8*xmx1^2*ymy1^2*zmz1^3 + 15/8*xmx1^3*ymy1^2*zmz1 + 15/8*xmx1^2*ymy1^3*zmz1 + 25/4*xmx1^2*ymy1^2*zmz1^2 - 3/4*xmx1^3*zmz1^3 - 3/4*ymy1^3*zmz1^3 - 25/8*xmx1^2*ymy1^2*zmz1 + 3/2*xmx1^3*zmz1^2 + 3/2*ymy1^3*zmz1^2 + 5/4*xmx1^2*zmz1^3 + 5/4*ymy1^2*zmz1^3 - 3/4*xmx1^3*zmz1 - 3/4*ymy1^3*zmz1 - 5/2*xmx1^2*zmz1^2 - 5/2*ymy1^2*zmz1^2 + 5/4*xmx1^2*zmz1 + 5/4*ymy1^2*zmz1 - 1/2*zmz1^3 + zmz1^2 - 1/2*zmz1\n",
      "f210:9/8*xmx1^3*ymy1^3*zmz1^3 - 9/4*xmx1^3*ymy1^3*zmz1^2 - 15/8*xmx1^3*ymy1^2*zmz1^3 - 3/2*xmx1^2*ymy1^3*zmz1^3 + 9/8*xmx1^3*ymy1^3*zmz1 + 15/4*xmx1^3*ymy1^2*zmz1^2 + 3*xmx1^2*ymy1^3*zmz1^2 + 5/2*xmx1^2*ymy1^2*zmz1^3 - 3/8*xmx1*ymy1^3*zmz1^3 - 15/8*xmx1^3*ymy1^2*zmz1 - 3/2*xmx1^2*ymy1^3*zmz1 - 5*xmx1^2*ymy1^2*zmz1^2 + 3/4*xmx1*ymy1^3*zmz1^2 + 3/4*xmx1^3*zmz1^3 + 5/8*xmx1*ymy1^2*zmz1^3 + 5/2*xmx1^2*ymy1^2*zmz1 - 3/8*xmx1*ymy1^3*zmz1 - 3/2*xmx1^3*zmz1^2 - 5/4*xmx1*ymy1^2*zmz1^2 - xmx1^2*zmz1^3 + 3/4*xmx1^3*zmz1 + 5/8*xmx1*ymy1^2*zmz1 + 2*xmx1^2*zmz1^2 - 1/4*xmx1*zmz1^3 - xmx1^2*zmz1 + 1/2*xmx1*zmz1^2 - 1/4*xmx1*zmz1\n",
      "f310:-3/8*xmx1^3*ymy1^3*zmz1^3 + 3/4*xmx1^3*ymy1^3*zmz1^2 + 5/8*xmx1^3*ymy1^2*zmz1^3 + 3/8*xmx1^2*ymy1^3*zmz1^3 - 3/8*xmx1^3*ymy1^3*zmz1 - 5/4*xmx1^3*ymy1^2*zmz1^2 - 3/4*xmx1^2*ymy1^3*zmz1^2 - 5/8*xmx1^2*ymy1^2*zmz1^3 + 5/8*xmx1^3*ymy1^2*zmz1 + 3/8*xmx1^2*ymy1^3*zmz1 + 5/4*xmx1^2*ymy1^2*zmz1^2 - 1/4*xmx1^3*zmz1^3 - 5/8*xmx1^2*ymy1^2*zmz1 + 1/2*xmx1^3*zmz1^2 + 1/4*xmx1^2*zmz1^3 - 1/4*xmx1^3*zmz1 - 1/2*xmx1^2*zmz1^2 + 1/4*xmx1^2*zmz1\n",
      "f020:-3/8*xmx1^3*ymy1^3*zmz1^3 + 3/4*xmx1^3*ymy1^3*zmz1^2 + 1/2*xmx1^3*ymy1^2*zmz1^3 + 3/4*xmx1^2*ymy1^3*zmz1^3 - 3/8*xmx1^3*ymy1^3*zmz1 - xmx1^3*ymy1^2*zmz1^2 - 3/2*xmx1^2*ymy1^3*zmz1^2 + 1/8*xmx1^3*ymy1*zmz1^3 - xmx1^2*ymy1^2*zmz1^3 - 3/8*xmx1*ymy1^3*zmz1^3 + 1/2*xmx1^3*ymy1^2*zmz1 + 3/4*xmx1^2*ymy1^3*zmz1 - 1/4*xmx1^3*ymy1*zmz1^2 + 2*xmx1^2*ymy1^2*zmz1^2 + 3/4*xmx1*ymy1^3*zmz1^2 - 1/4*xmx1^2*ymy1*zmz1^3 + 1/2*xmx1*ymy1^2*zmz1^3 + 1/8*xmx1^3*ymy1*zmz1 - xmx1^2*ymy1^2*zmz1 - 3/8*xmx1*ymy1^3*zmz1 + 1/2*xmx1^2*ymy1*zmz1^2 - xmx1*ymy1^2*zmz1^2 + 1/8*xmx1*ymy1*zmz1^3 - 1/4*xmx1^2*ymy1*zmz1 + 1/2*xmx1*ymy1^2*zmz1 - 1/4*xmx1*ymy1*zmz1^2 + 1/8*xmx1*ymy1*zmz1\n",
      "f120:9/8*xmx1^3*ymy1^3*zmz1^3 - 9/4*xmx1^3*ymy1^3*zmz1^2 - 3/2*xmx1^3*ymy1^2*zmz1^3 - 15/8*xmx1^2*ymy1^3*zmz1^3 + 9/8*xmx1^3*ymy1^3*zmz1 + 3*xmx1^3*ymy1^2*zmz1^2 + 15/4*xmx1^2*ymy1^3*zmz1^2 - 3/8*xmx1^3*ymy1*zmz1^3 + 5/2*xmx1^2*ymy1^2*zmz1^3 - 3/2*xmx1^3*ymy1^2*zmz1 - 15/8*xmx1^2*ymy1^3*zmz1 + 3/4*xmx1^3*ymy1*zmz1^2 - 5*xmx1^2*ymy1^2*zmz1^2 + 5/8*xmx1^2*ymy1*zmz1^3 + 3/4*ymy1^3*zmz1^3 - 3/8*xmx1^3*ymy1*zmz1 + 5/2*xmx1^2*ymy1^2*zmz1 - 5/4*xmx1^2*ymy1*zmz1^2 - 3/2*ymy1^3*zmz1^2 - ymy1^2*zmz1^3 + 5/8*xmx1^2*ymy1*zmz1 + 3/4*ymy1^3*zmz1 + 2*ymy1^2*zmz1^2 - 1/4*ymy1*zmz1^3 - ymy1^2*zmz1 + 1/2*ymy1*zmz1^2 - 1/4*ymy1*zmz1\n",
      "f220:-9/8*xmx1^3*ymy1^3*zmz1^3 + 9/4*xmx1^3*ymy1^3*zmz1^2 + 3/2*xmx1^3*ymy1^2*zmz1^3 + 3/2*xmx1^2*ymy1^3*zmz1^3 - 9/8*xmx1^3*ymy1^3*zmz1 - 3*xmx1^3*ymy1^2*zmz1^2 - 3*xmx1^2*ymy1^3*zmz1^2 + 3/8*xmx1^3*ymy1*zmz1^3 - 2*xmx1^2*ymy1^2*zmz1^3 + 3/8*xmx1*ymy1^3*zmz1^3 + 3/2*xmx1^3*ymy1^2*zmz1 + 3/2*xmx1^2*ymy1^3*zmz1 - 3/4*xmx1^3*ymy1*zmz1^2 + 4*xmx1^2*ymy1^2*zmz1^2 - 3/4*xmx1*ymy1^3*zmz1^2 - 1/2*xmx1^2*ymy1*zmz1^3 - 1/2*xmx1*ymy1^2*zmz1^3 + 3/8*xmx1^3*ymy1*zmz1 - 2*xmx1^2*ymy1^2*zmz1 + 3/8*xmx1*ymy1^3*zmz1 + xmx1^2*ymy1*zmz1^2 + xmx1*ymy1^2*zmz1^2 - 1/8*xmx1*ymy1*zmz1^3 - 1/2*xmx1^2*ymy1*zmz1 - 1/2*xmx1*ymy1^2*zmz1 + 1/4*xmx1*ymy1*zmz1^2 - 1/8*xmx1*ymy1*zmz1\n",
      "f320:3/8*xmx1^3*ymy1^3*zmz1^3 - 3/4*xmx1^3*ymy1^3*zmz1^2 - 1/2*xmx1^3*ymy1^2*zmz1^3 - 3/8*xmx1^2*ymy1^3*zmz1^3 + 3/8*xmx1^3*ymy1^3*zmz1 + xmx1^3*ymy1^2*zmz1^2 + 3/4*xmx1^2*ymy1^3*zmz1^2 - 1/8*xmx1^3*ymy1*zmz1^3 + 1/2*xmx1^2*ymy1^2*zmz1^3 - 1/2*xmx1^3*ymy1^2*zmz1 - 3/8*xmx1^2*ymy1^3*zmz1 + 1/4*xmx1^3*ymy1*zmz1^2 - xmx1^2*ymy1^2*zmz1^2 + 1/8*xmx1^2*ymy1*zmz1^3 - 1/8*xmx1^3*ymy1*zmz1 + 1/2*xmx1^2*ymy1^2*zmz1 - 1/4*xmx1^2*ymy1*zmz1^2 + 1/8*xmx1^2*ymy1*zmz1\n",
      "f030:1/8*xmx1^3*ymy1^3*zmz1^3 - 1/4*xmx1^3*ymy1^3*zmz1^2 - 1/8*xmx1^3*ymy1^2*zmz1^3 - 1/4*xmx1^2*ymy1^3*zmz1^3 + 1/8*xmx1^3*ymy1^3*zmz1 + 1/4*xmx1^3*ymy1^2*zmz1^2 + 1/2*xmx1^2*ymy1^3*zmz1^2 + 1/4*xmx1^2*ymy1^2*zmz1^3 + 1/8*xmx1*ymy1^3*zmz1^3 - 1/8*xmx1^3*ymy1^2*zmz1 - 1/4*xmx1^2*ymy1^3*zmz1 - 1/2*xmx1^2*ymy1^2*zmz1^2 - 1/4*xmx1*ymy1^3*zmz1^2 - 1/8*xmx1*ymy1^2*zmz1^3 + 1/4*xmx1^2*ymy1^2*zmz1 + 1/8*xmx1*ymy1^3*zmz1 + 1/4*xmx1*ymy1^2*zmz1^2 - 1/8*xmx1*ymy1^2*zmz1\n",
      "f130:-3/8*xmx1^3*ymy1^3*zmz1^3 + 3/4*xmx1^3*ymy1^3*zmz1^2 + 3/8*xmx1^3*ymy1^2*zmz1^3 + 5/8*xmx1^2*ymy1^3*zmz1^3 - 3/8*xmx1^3*ymy1^3*zmz1 - 3/4*xmx1^3*ymy1^2*zmz1^2 - 5/4*xmx1^2*ymy1^3*zmz1^2 - 5/8*xmx1^2*ymy1^2*zmz1^3 + 3/8*xmx1^3*ymy1^2*zmz1 + 5/8*xmx1^2*ymy1^3*zmz1 + 5/4*xmx1^2*ymy1^2*zmz1^2 - 1/4*ymy1^3*zmz1^3 - 5/8*xmx1^2*ymy1^2*zmz1 + 1/2*ymy1^3*zmz1^2 + 1/4*ymy1^2*zmz1^3 - 1/4*ymy1^3*zmz1 - 1/2*ymy1^2*zmz1^2 + 1/4*ymy1^2*zmz1\n",
      "f230:3/8*xmx1^3*ymy1^3*zmz1^3 - 3/4*xmx1^3*ymy1^3*zmz1^2 - 3/8*xmx1^3*ymy1^2*zmz1^3 - 1/2*xmx1^2*ymy1^3*zmz1^3 + 3/8*xmx1^3*ymy1^3*zmz1 + 3/4*xmx1^3*ymy1^2*zmz1^2 + xmx1^2*ymy1^3*zmz1^2 + 1/2*xmx1^2*ymy1^2*zmz1^3 - 1/8*xmx1*ymy1^3*zmz1^3 - 3/8*xmx1^3*ymy1^2*zmz1 - 1/2*xmx1^2*ymy1^3*zmz1 - xmx1^2*ymy1^2*zmz1^2 + 1/4*xmx1*ymy1^3*zmz1^2 + 1/8*xmx1*ymy1^2*zmz1^3 + 1/2*xmx1^2*ymy1^2*zmz1 - 1/8*xmx1*ymy1^3*zmz1 - 1/4*xmx1*ymy1^2*zmz1^2 + 1/8*xmx1*ymy1^2*zmz1\n",
      "f330:-1/8*xmx1^3*ymy1^3*zmz1^3 + 1/4*xmx1^3*ymy1^3*zmz1^2 + 1/8*xmx1^3*ymy1^2*zmz1^3 + 1/8*xmx1^2*ymy1^3*zmz1^3 - 1/8*xmx1^3*ymy1^3*zmz1 - 1/4*xmx1^3*ymy1^2*zmz1^2 - 1/4*xmx1^2*ymy1^3*zmz1^2 - 1/8*xmx1^2*ymy1^2*zmz1^3 + 1/8*xmx1^3*ymy1^2*zmz1 + 1/8*xmx1^2*ymy1^3*zmz1 + 1/4*xmx1^2*ymy1^2*zmz1^2 - 1/8*xmx1^2*ymy1^2*zmz1\n",
      "f001:3/8*xmx1^3*ymy1^3*zmz1^3 - 5/8*xmx1^3*ymy1^3*zmz1^2 - 3/4*xmx1^3*ymy1^2*zmz1^3 - 3/4*xmx1^2*ymy1^3*zmz1^3 + 5/4*xmx1^3*ymy1^2*zmz1^2 + 5/4*xmx1^2*ymy1^3*zmz1^2 + 3/8*xmx1^3*ymy1*zmz1^3 + 3/2*xmx1^2*ymy1^2*zmz1^3 + 3/8*xmx1*ymy1^3*zmz1^3 + 1/4*xmx1^3*ymy1^3 - 5/8*xmx1^3*ymy1*zmz1^2 - 5/2*xmx1^2*ymy1^2*zmz1^2 - 5/8*xmx1*ymy1^3*zmz1^2 - 3/4*xmx1^2*ymy1*zmz1^3 - 3/4*xmx1*ymy1^2*zmz1^3 - 1/2*xmx1^3*ymy1^2 - 1/2*xmx1^2*ymy1^3 + 5/4*xmx1^2*ymy1*zmz1^2 + 5/4*xmx1*ymy1^2*zmz1^2 + 3/8*xmx1*ymy1*zmz1^3 + 1/4*xmx1^3*ymy1 + xmx1^2*ymy1^2 + 1/4*xmx1*ymy1^3 - 5/8*xmx1*ymy1*zmz1^2 - 1/2*xmx1^2*ymy1 - 1/2*xmx1*ymy1^2 + 1/4*xmx1*ymy1\n",
      "f101:-9/8*xmx1^3*ymy1^3*zmz1^3 + 15/8*xmx1^3*ymy1^3*zmz1^2 + 9/4*xmx1^3*ymy1^2*zmz1^3 + 15/8*xmx1^2*ymy1^3*zmz1^3 - 15/4*xmx1^3*ymy1^2*zmz1^2 - 25/8*xmx1^2*ymy1^3*zmz1^2 - 9/8*xmx1^3*ymy1*zmz1^3 - 15/4*xmx1^2*ymy1^2*zmz1^3 - 3/4*xmx1^3*ymy1^3 + 15/8*xmx1^3*ymy1*zmz1^2 + 25/4*xmx1^2*ymy1^2*zmz1^2 + 15/8*xmx1^2*ymy1*zmz1^3 - 3/4*ymy1^3*zmz1^3 + 3/2*xmx1^3*ymy1^2 + 5/4*xmx1^2*ymy1^3 - 25/8*xmx1^2*ymy1*zmz1^2 + 5/4*ymy1^3*zmz1^2 + 3/2*ymy1^2*zmz1^3 - 3/4*xmx1^3*ymy1 - 5/2*xmx1^2*ymy1^2 - 5/2*ymy1^2*zmz1^2 - 3/4*ymy1*zmz1^3 + 5/4*xmx1^2*ymy1 - 1/2*ymy1^3 + 5/4*ymy1*zmz1^2 + ymy1^2 - 1/2*ymy1\n",
      "f201:9/8*xmx1^3*ymy1^3*zmz1^3 - 15/8*xmx1^3*ymy1^3*zmz1^2 - 9/4*xmx1^3*ymy1^2*zmz1^3 - 3/2*xmx1^2*ymy1^3*zmz1^3 + 15/4*xmx1^3*ymy1^2*zmz1^2 + 5/2*xmx1^2*ymy1^3*zmz1^2 + 9/8*xmx1^3*ymy1*zmz1^3 + 3*xmx1^2*ymy1^2*zmz1^3 - 3/8*xmx1*ymy1^3*zmz1^3 + 3/4*xmx1^3*ymy1^3 - 15/8*xmx1^3*ymy1*zmz1^2 - 5*xmx1^2*ymy1^2*zmz1^2 + 5/8*xmx1*ymy1^3*zmz1^2 - 3/2*xmx1^2*ymy1*zmz1^3 + 3/4*xmx1*ymy1^2*zmz1^3 - 3/2*xmx1^3*ymy1^2 - xmx1^2*ymy1^3 + 5/2*xmx1^2*ymy1*zmz1^2 - 5/4*xmx1*ymy1^2*zmz1^2 - 3/8*xmx1*ymy1*zmz1^3 + 3/4*xmx1^3*ymy1 + 2*xmx1^2*ymy1^2 - 1/4*xmx1*ymy1^3 + 5/8*xmx1*ymy1*zmz1^2 - xmx1^2*ymy1 + 1/2*xmx1*ymy1^2 - 1/4*xmx1*ymy1\n",
      "f301:-3/8*xmx1^3*ymy1^3*zmz1^3 + 5/8*xmx1^3*ymy1^3*zmz1^2 + 3/4*xmx1^3*ymy1^2*zmz1^3 + 3/8*xmx1^2*ymy1^3*zmz1^3 - 5/4*xmx1^3*ymy1^2*zmz1^2 - 5/8*xmx1^2*ymy1^3*zmz1^2 - 3/8*xmx1^3*ymy1*zmz1^3 - 3/4*xmx1^2*ymy1^2*zmz1^3 - 1/4*xmx1^3*ymy1^3 + 5/8*xmx1^3*ymy1*zmz1^2 + 5/4*xmx1^2*ymy1^2*zmz1^2 + 3/8*xmx1^2*ymy1*zmz1^3 + 1/2*xmx1^3*ymy1^2 + 1/4*xmx1^2*ymy1^3 - 5/8*xmx1^2*ymy1*zmz1^2 - 1/4*xmx1^3*ymy1 - 1/2*xmx1^2*ymy1^2 + 1/4*xmx1^2*ymy1\n",
      "f011:-9/8*xmx1^3*ymy1^3*zmz1^3 + 15/8*xmx1^3*ymy1^3*zmz1^2 + 15/8*xmx1^3*ymy1^2*zmz1^3 + 9/4*xmx1^2*ymy1^3*zmz1^3 - 25/8*xmx1^3*ymy1^2*zmz1^2 - 15/4*xmx1^2*ymy1^3*zmz1^2 - 15/4*xmx1^2*ymy1^2*zmz1^3 - 9/8*xmx1*ymy1^3*zmz1^3 - 3/4*xmx1^3*ymy1^3 + 25/4*xmx1^2*ymy1^2*zmz1^2 + 15/8*xmx1*ymy1^3*zmz1^2 - 3/4*xmx1^3*zmz1^3 + 15/8*xmx1*ymy1^2*zmz1^3 + 5/4*xmx1^3*ymy1^2 + 3/2*xmx1^2*ymy1^3 + 5/4*xmx1^3*zmz1^2 - 25/8*xmx1*ymy1^2*zmz1^2 + 3/2*xmx1^2*zmz1^3 - 5/2*xmx1^2*ymy1^2 - 3/4*xmx1*ymy1^3 - 5/2*xmx1^2*zmz1^2 - 3/4*xmx1*zmz1^3 - 1/2*xmx1^3 + 5/4*xmx1*ymy1^2 + 5/4*xmx1*zmz1^2 + xmx1^2 - 1/2*xmx1\n",
      "f111:27/8*xmx1^3*ymy1^3*zmz1^3 - 45/8*xmx1^3*ymy1^3*zmz1^2 - 45/8*xmx1^3*ymy1^2*zmz1^3 - 45/8*xmx1^2*ymy1^3*zmz1^3 + 75/8*xmx1^3*ymy1^2*zmz1^2 + 75/8*xmx1^2*ymy1^3*zmz1^2 + 75/8*xmx1^2*ymy1^2*zmz1^3 + 9/4*xmx1^3*ymy1^3 - 125/8*xmx1^2*ymy1^2*zmz1^2 + 9/4*xmx1^3*zmz1^3 + 9/4*ymy1^3*zmz1^3 - 15/4*xmx1^3*ymy1^2 - 15/4*xmx1^2*ymy1^3 - 15/4*xmx1^3*zmz1^2 - 15/4*ymy1^3*zmz1^2 - 15/4*xmx1^2*zmz1^3 - 15/4*ymy1^2*zmz1^3 + 25/4*xmx1^2*ymy1^2 + 25/4*xmx1^2*zmz1^2 + 25/4*ymy1^2*zmz1^2 + 3/2*xmx1^3 + 3/2*ymy1^3 + 3/2*zmz1^3 - 5/2*xmx1^2 - 5/2*ymy1^2 - 5/2*zmz1^2 + 1\n",
      "f211:-27/8*xmx1^3*ymy1^3*zmz1^3 + 45/8*xmx1^3*ymy1^3*zmz1^2 + 45/8*xmx1^3*ymy1^2*zmz1^3 + 9/2*xmx1^2*ymy1^3*zmz1^3 - 75/8*xmx1^3*ymy1^2*zmz1^2 - 15/2*xmx1^2*ymy1^3*zmz1^2 - 15/2*xmx1^2*ymy1^2*zmz1^3 + 9/8*xmx1*ymy1^3*zmz1^3 - 9/4*xmx1^3*ymy1^3 + 25/2*xmx1^2*ymy1^2*zmz1^2 - 15/8*xmx1*ymy1^3*zmz1^2 - 9/4*xmx1^3*zmz1^3 - 15/8*xmx1*ymy1^2*zmz1^3 + 15/4*xmx1^3*ymy1^2 + 3*xmx1^2*ymy1^3 + 15/4*xmx1^3*zmz1^2 + 25/8*xmx1*ymy1^2*zmz1^2 + 3*xmx1^2*zmz1^3 - 5*xmx1^2*ymy1^2 + 3/4*xmx1*ymy1^3 - 5*xmx1^2*zmz1^2 + 3/4*xmx1*zmz1^3 - 3/2*xmx1^3 - 5/4*xmx1*ymy1^2 - 5/4*xmx1*zmz1^2 + 2*xmx1^2 + 1/2*xmx1\n",
      "f311:9/8*xmx1^3*ymy1^3*zmz1^3 - 15/8*xmx1^3*ymy1^3*zmz1^2 - 15/8*xmx1^3*ymy1^2*zmz1^3 - 9/8*xmx1^2*ymy1^3*zmz1^3 + 25/8*xmx1^3*ymy1^2*zmz1^2 + 15/8*xmx1^2*ymy1^3*zmz1^2 + 15/8*xmx1^2*ymy1^2*zmz1^3 + 3/4*xmx1^3*ymy1^3 - 25/8*xmx1^2*ymy1^2*zmz1^2 + 3/4*xmx1^3*zmz1^3 - 5/4*xmx1^3*ymy1^2 - 3/4*xmx1^2*ymy1^3 - 5/4*xmx1^3*zmz1^2 - 3/4*xmx1^2*zmz1^3 + 5/4*xmx1^2*ymy1^2 + 5/4*xmx1^2*zmz1^2 + 1/2*xmx1^3 - 1/2*xmx1^2\n",
      "f021:9/8*xmx1^3*ymy1^3*zmz1^3 - 15/8*xmx1^3*ymy1^3*zmz1^2 - 3/2*xmx1^3*ymy1^2*zmz1^3 - 9/4*xmx1^2*ymy1^3*zmz1^3 + 5/2*xmx1^3*ymy1^2*zmz1^2 + 15/4*xmx1^2*ymy1^3*zmz1^2 - 3/8*xmx1^3*ymy1*zmz1^3 + 3*xmx1^2*ymy1^2*zmz1^3 + 9/8*xmx1*ymy1^3*zmz1^3 + 3/4*xmx1^3*ymy1^3 + 5/8*xmx1^3*ymy1*zmz1^2 - 5*xmx1^2*ymy1^2*zmz1^2 - 15/8*xmx1*ymy1^3*zmz1^2 + 3/4*xmx1^2*ymy1*zmz1^3 - 3/2*xmx1*ymy1^2*zmz1^3 - xmx1^3*ymy1^2 - 3/2*xmx1^2*ymy1^3 - 5/4*xmx1^2*ymy1*zmz1^2 + 5/2*xmx1*ymy1^2*zmz1^2 - 3/8*xmx1*ymy1*zmz1^3 - 1/4*xmx1^3*ymy1 + 2*xmx1^2*ymy1^2 + 3/4*xmx1*ymy1^3 + 5/8*xmx1*ymy1*zmz1^2 + 1/2*xmx1^2*ymy1 - xmx1*ymy1^2 - 1/4*xmx1*ymy1\n",
      "f121:-27/8*xmx1^3*ymy1^3*zmz1^3 + 45/8*xmx1^3*ymy1^3*zmz1^2 + 9/2*xmx1^3*ymy1^2*zmz1^3 + 45/8*xmx1^2*ymy1^3*zmz1^3 - 15/2*xmx1^3*ymy1^2*zmz1^2 - 75/8*xmx1^2*ymy1^3*zmz1^2 + 9/8*xmx1^3*ymy1*zmz1^3 - 15/2*xmx1^2*ymy1^2*zmz1^3 - 9/4*xmx1^3*ymy1^3 - 15/8*xmx1^3*ymy1*zmz1^2 + 25/2*xmx1^2*ymy1^2*zmz1^2 - 15/8*xmx1^2*ymy1*zmz1^3 - 9/4*ymy1^3*zmz1^3 + 3*xmx1^3*ymy1^2 + 15/4*xmx1^2*ymy1^3 + 25/8*xmx1^2*ymy1*zmz1^2 + 15/4*ymy1^3*zmz1^2 + 3*ymy1^2*zmz1^3 + 3/4*xmx1^3*ymy1 - 5*xmx1^2*ymy1^2 - 5*ymy1^2*zmz1^2 + 3/4*ymy1*zmz1^3 - 5/4*xmx1^2*ymy1 - 3/2*ymy1^3 - 5/4*ymy1*zmz1^2 + 2*ymy1^2 + 1/2*ymy1\n",
      "f221:27/8*xmx1^3*ymy1^3*zmz1^3 - 45/8*xmx1^3*ymy1^3*zmz1^2 - 9/2*xmx1^3*ymy1^2*zmz1^3 - 9/2*xmx1^2*ymy1^3*zmz1^3 + 15/2*xmx1^3*ymy1^2*zmz1^2 + 15/2*xmx1^2*ymy1^3*zmz1^2 - 9/8*xmx1^3*ymy1*zmz1^3 + 6*xmx1^2*ymy1^2*zmz1^3 - 9/8*xmx1*ymy1^3*zmz1^3 + 9/4*xmx1^3*ymy1^3 + 15/8*xmx1^3*ymy1*zmz1^2 - 10*xmx1^2*ymy1^2*zmz1^2 + 15/8*xmx1*ymy1^3*zmz1^2 + 3/2*xmx1^2*ymy1*zmz1^3 + 3/2*xmx1*ymy1^2*zmz1^3 - 3*xmx1^3*ymy1^2 - 3*xmx1^2*ymy1^3 - 5/2*xmx1^2*ymy1*zmz1^2 - 5/2*xmx1*ymy1^2*zmz1^2 + 3/8*xmx1*ymy1*zmz1^3 - 3/4*xmx1^3*ymy1 + 4*xmx1^2*ymy1^2 - 3/4*xmx1*ymy1^3 - 5/8*xmx1*ymy1*zmz1^2 + xmx1^2*ymy1 + xmx1*ymy1^2 + 1/4*xmx1*ymy1\n",
      "f321:-9/8*xmx1^3*ymy1^3*zmz1^3 + 15/8*xmx1^3*ymy1^3*zmz1^2 + 3/2*xmx1^3*ymy1^2*zmz1^3 + 9/8*xmx1^2*ymy1^3*zmz1^3 - 5/2*xmx1^3*ymy1^2*zmz1^2 - 15/8*xmx1^2*ymy1^3*zmz1^2 + 3/8*xmx1^3*ymy1*zmz1^3 - 3/2*xmx1^2*ymy1^2*zmz1^3 - 3/4*xmx1^3*ymy1^3 - 5/8*xmx1^3*ymy1*zmz1^2 + 5/2*xmx1^2*ymy1^2*zmz1^2 - 3/8*xmx1^2*ymy1*zmz1^3 + xmx1^3*ymy1^2 + 3/4*xmx1^2*ymy1^3 + 5/8*xmx1^2*ymy1*zmz1^2 + 1/4*xmx1^3*ymy1 - xmx1^2*ymy1^2 - 1/4*xmx1^2*ymy1\n",
      "f031:-3/8*xmx1^3*ymy1^3*zmz1^3 + 5/8*xmx1^3*ymy1^3*zmz1^2 + 3/8*xmx1^3*ymy1^2*zmz1^3 + 3/4*xmx1^2*ymy1^3*zmz1^3 - 5/8*xmx1^3*ymy1^2*zmz1^2 - 5/4*xmx1^2*ymy1^3*zmz1^2 - 3/4*xmx1^2*ymy1^2*zmz1^3 - 3/8*xmx1*ymy1^3*zmz1^3 - 1/4*xmx1^3*ymy1^3 + 5/4*xmx1^2*ymy1^2*zmz1^2 + 5/8*xmx1*ymy1^3*zmz1^2 + 3/8*xmx1*ymy1^2*zmz1^3 + 1/4*xmx1^3*ymy1^2 + 1/2*xmx1^2*ymy1^3 - 5/8*xmx1*ymy1^2*zmz1^2 - 1/2*xmx1^2*ymy1^2 - 1/4*xmx1*ymy1^3 + 1/4*xmx1*ymy1^2\n",
      "f131:9/8*xmx1^3*ymy1^3*zmz1^3 - 15/8*xmx1^3*ymy1^3*zmz1^2 - 9/8*xmx1^3*ymy1^2*zmz1^3 - 15/8*xmx1^2*ymy1^3*zmz1^3 + 15/8*xmx1^3*ymy1^2*zmz1^2 + 25/8*xmx1^2*ymy1^3*zmz1^2 + 15/8*xmx1^2*ymy1^2*zmz1^3 + 3/4*xmx1^3*ymy1^3 - 25/8*xmx1^2*ymy1^2*zmz1^2 + 3/4*ymy1^3*zmz1^3 - 3/4*xmx1^3*ymy1^2 - 5/4*xmx1^2*ymy1^3 - 5/4*ymy1^3*zmz1^2 - 3/4*ymy1^2*zmz1^3 + 5/4*xmx1^2*ymy1^2 + 5/4*ymy1^2*zmz1^2 + 1/2*ymy1^3 - 1/2*ymy1^2\n",
      "f231:-9/8*xmx1^3*ymy1^3*zmz1^3 + 15/8*xmx1^3*ymy1^3*zmz1^2 + 9/8*xmx1^3*ymy1^2*zmz1^3 + 3/2*xmx1^2*ymy1^3*zmz1^3 - 15/8*xmx1^3*ymy1^2*zmz1^2 - 5/2*xmx1^2*ymy1^3*zmz1^2 - 3/2*xmx1^2*ymy1^2*zmz1^3 + 3/8*xmx1*ymy1^3*zmz1^3 - 3/4*xmx1^3*ymy1^3 + 5/2*xmx1^2*ymy1^2*zmz1^2 - 5/8*xmx1*ymy1^3*zmz1^2 - 3/8*xmx1*ymy1^2*zmz1^3 + 3/4*xmx1^3*ymy1^2 + xmx1^2*ymy1^3 + 5/8*xmx1*ymy1^2*zmz1^2 - xmx1^2*ymy1^2 + 1/4*xmx1*ymy1^3 - 1/4*xmx1*ymy1^2\n",
      "f331:3/8*xmx1^3*ymy1^3*zmz1^3 - 5/8*xmx1^3*ymy1^3*zmz1^2 - 3/8*xmx1^3*ymy1^2*zmz1^3 - 3/8*xmx1^2*ymy1^3*zmz1^3 + 5/8*xmx1^3*ymy1^2*zmz1^2 + 5/8*xmx1^2*ymy1^3*zmz1^2 + 3/8*xmx1^2*ymy1^2*zmz1^3 + 1/4*xmx1^3*ymy1^3 - 5/8*xmx1^2*ymy1^2*zmz1^2 - 1/4*xmx1^3*ymy1^2 - 1/4*xmx1^2*ymy1^3 + 1/4*xmx1^2*ymy1^2\n",
      "f002:-3/8*xmx1^3*ymy1^3*zmz1^3 + 1/2*xmx1^3*ymy1^3*zmz1^2 + 3/4*xmx1^3*ymy1^2*zmz1^3 + 3/4*xmx1^2*ymy1^3*zmz1^3 + 1/8*xmx1^3*ymy1^3*zmz1 - xmx1^3*ymy1^2*zmz1^2 - xmx1^2*ymy1^3*zmz1^2 - 3/8*xmx1^3*ymy1*zmz1^3 - 3/2*xmx1^2*ymy1^2*zmz1^3 - 3/8*xmx1*ymy1^3*zmz1^3 - 1/4*xmx1^3*ymy1^2*zmz1 - 1/4*xmx1^2*ymy1^3*zmz1 + 1/2*xmx1^3*ymy1*zmz1^2 + 2*xmx1^2*ymy1^2*zmz1^2 + 1/2*xmx1*ymy1^3*zmz1^2 + 3/4*xmx1^2*ymy1*zmz1^3 + 3/4*xmx1*ymy1^2*zmz1^3 + 1/8*xmx1^3*ymy1*zmz1 + 1/2*xmx1^2*ymy1^2*zmz1 + 1/8*xmx1*ymy1^3*zmz1 - xmx1^2*ymy1*zmz1^2 - xmx1*ymy1^2*zmz1^2 - 3/8*xmx1*ymy1*zmz1^3 - 1/4*xmx1^2*ymy1*zmz1 - 1/4*xmx1*ymy1^2*zmz1 + 1/2*xmx1*ymy1*zmz1^2 + 1/8*xmx1*ymy1*zmz1\n",
      "f102:9/8*xmx1^3*ymy1^3*zmz1^3 - 3/2*xmx1^3*ymy1^3*zmz1^2 - 9/4*xmx1^3*ymy1^2*zmz1^3 - 15/8*xmx1^2*ymy1^3*zmz1^3 - 3/8*xmx1^3*ymy1^3*zmz1 + 3*xmx1^3*ymy1^2*zmz1^2 + 5/2*xmx1^2*ymy1^3*zmz1^2 + 9/8*xmx1^3*ymy1*zmz1^3 + 15/4*xmx1^2*ymy1^2*zmz1^3 + 3/4*xmx1^3*ymy1^2*zmz1 + 5/8*xmx1^2*ymy1^3*zmz1 - 3/2*xmx1^3*ymy1*zmz1^2 - 5*xmx1^2*ymy1^2*zmz1^2 - 15/8*xmx1^2*ymy1*zmz1^3 + 3/4*ymy1^3*zmz1^3 - 3/8*xmx1^3*ymy1*zmz1 - 5/4*xmx1^2*ymy1^2*zmz1 + 5/2*xmx1^2*ymy1*zmz1^2 - ymy1^3*zmz1^2 - 3/2*ymy1^2*zmz1^3 + 5/8*xmx1^2*ymy1*zmz1 - 1/4*ymy1^3*zmz1 + 2*ymy1^2*zmz1^2 + 3/4*ymy1*zmz1^3 + 1/2*ymy1^2*zmz1 - ymy1*zmz1^2 - 1/4*ymy1*zmz1\n",
      "f202:-9/8*xmx1^3*ymy1^3*zmz1^3 + 3/2*xmx1^3*ymy1^3*zmz1^2 + 9/4*xmx1^3*ymy1^2*zmz1^3 + 3/2*xmx1^2*ymy1^3*zmz1^3 + 3/8*xmx1^3*ymy1^3*zmz1 - 3*xmx1^3*ymy1^2*zmz1^2 - 2*xmx1^2*ymy1^3*zmz1^2 - 9/8*xmx1^3*ymy1*zmz1^3 - 3*xmx1^2*ymy1^2*zmz1^3 + 3/8*xmx1*ymy1^3*zmz1^3 - 3/4*xmx1^3*ymy1^2*zmz1 - 1/2*xmx1^2*ymy1^3*zmz1 + 3/2*xmx1^3*ymy1*zmz1^2 + 4*xmx1^2*ymy1^2*zmz1^2 - 1/2*xmx1*ymy1^3*zmz1^2 + 3/2*xmx1^2*ymy1*zmz1^3 - 3/4*xmx1*ymy1^2*zmz1^3 + 3/8*xmx1^3*ymy1*zmz1 + xmx1^2*ymy1^2*zmz1 - 1/8*xmx1*ymy1^3*zmz1 - 2*xmx1^2*ymy1*zmz1^2 + xmx1*ymy1^2*zmz1^2 + 3/8*xmx1*ymy1*zmz1^3 - 1/2*xmx1^2*ymy1*zmz1 + 1/4*xmx1*ymy1^2*zmz1 - 1/2*xmx1*ymy1*zmz1^2 - 1/8*xmx1*ymy1*zmz1\n",
      "f302:3/8*xmx1^3*ymy1^3*zmz1^3 - 1/2*xmx1^3*ymy1^3*zmz1^2 - 3/4*xmx1^3*ymy1^2*zmz1^3 - 3/8*xmx1^2*ymy1^3*zmz1^3 - 1/8*xmx1^3*ymy1^3*zmz1 + xmx1^3*ymy1^2*zmz1^2 + 1/2*xmx1^2*ymy1^3*zmz1^2 + 3/8*xmx1^3*ymy1*zmz1^3 + 3/4*xmx1^2*ymy1^2*zmz1^3 + 1/4*xmx1^3*ymy1^2*zmz1 + 1/8*xmx1^2*ymy1^3*zmz1 - 1/2*xmx1^3*ymy1*zmz1^2 - xmx1^2*ymy1^2*zmz1^2 - 3/8*xmx1^2*ymy1*zmz1^3 - 1/8*xmx1^3*ymy1*zmz1 - 1/4*xmx1^2*ymy1^2*zmz1 + 1/2*xmx1^2*ymy1*zmz1^2 + 1/8*xmx1^2*ymy1*zmz1\n",
      "f012:9/8*xmx1^3*ymy1^3*zmz1^3 - 3/2*xmx1^3*ymy1^3*zmz1^2 - 15/8*xmx1^3*ymy1^2*zmz1^3 - 9/4*xmx1^2*ymy1^3*zmz1^3 - 3/8*xmx1^3*ymy1^3*zmz1 + 5/2*xmx1^3*ymy1^2*zmz1^2 + 3*xmx1^2*ymy1^3*zmz1^2 + 15/4*xmx1^2*ymy1^2*zmz1^3 + 9/8*xmx1*ymy1^3*zmz1^3 + 5/8*xmx1^3*ymy1^2*zmz1 + 3/4*xmx1^2*ymy1^3*zmz1 - 5*xmx1^2*ymy1^2*zmz1^2 - 3/2*xmx1*ymy1^3*zmz1^2 + 3/4*xmx1^3*zmz1^3 - 15/8*xmx1*ymy1^2*zmz1^3 - 5/4*xmx1^2*ymy1^2*zmz1 - 3/8*xmx1*ymy1^3*zmz1 - xmx1^3*zmz1^2 + 5/2*xmx1*ymy1^2*zmz1^2 - 3/2*xmx1^2*zmz1^3 - 1/4*xmx1^3*zmz1 + 5/8*xmx1*ymy1^2*zmz1 + 2*xmx1^2*zmz1^2 + 3/4*xmx1*zmz1^3 + 1/2*xmx1^2*zmz1 - xmx1*zmz1^2 - 1/4*xmx1*zmz1\n",
      "f112:-27/8*xmx1^3*ymy1^3*zmz1^3 + 9/2*xmx1^3*ymy1^3*zmz1^2 + 45/8*xmx1^3*ymy1^2*zmz1^3 + 45/8*xmx1^2*ymy1^3*zmz1^3 + 9/8*xmx1^3*ymy1^3*zmz1 - 15/2*xmx1^3*ymy1^2*zmz1^2 - 15/2*xmx1^2*ymy1^3*zmz1^2 - 75/8*xmx1^2*ymy1^2*zmz1^3 - 15/8*xmx1^3*ymy1^2*zmz1 - 15/8*xmx1^2*ymy1^3*zmz1 + 25/2*xmx1^2*ymy1^2*zmz1^2 - 9/4*xmx1^3*zmz1^3 - 9/4*ymy1^3*zmz1^3 + 25/8*xmx1^2*ymy1^2*zmz1 + 3*xmx1^3*zmz1^2 + 3*ymy1^3*zmz1^2 + 15/4*xmx1^2*zmz1^3 + 15/4*ymy1^2*zmz1^3 + 3/4*xmx1^3*zmz1 + 3/4*ymy1^3*zmz1 - 5*xmx1^2*zmz1^2 - 5*ymy1^2*zmz1^2 - 5/4*xmx1^2*zmz1 - 5/4*ymy1^2*zmz1 - 3/2*zmz1^3 + 2*zmz1^2 + 1/2*zmz1\n",
      "f212:27/8*xmx1^3*ymy1^3*zmz1^3 - 9/2*xmx1^3*ymy1^3*zmz1^2 - 45/8*xmx1^3*ymy1^2*zmz1^3 - 9/2*xmx1^2*ymy1^3*zmz1^3 - 9/8*xmx1^3*ymy1^3*zmz1 + 15/2*xmx1^3*ymy1^2*zmz1^2 + 6*xmx1^2*ymy1^3*zmz1^2 + 15/2*xmx1^2*ymy1^2*zmz1^3 - 9/8*xmx1*ymy1^3*zmz1^3 + 15/8*xmx1^3*ymy1^2*zmz1 + 3/2*xmx1^2*ymy1^3*zmz1 - 10*xmx1^2*ymy1^2*zmz1^2 + 3/2*xmx1*ymy1^3*zmz1^2 + 9/4*xmx1^3*zmz1^3 + 15/8*xmx1*ymy1^2*zmz1^3 - 5/2*xmx1^2*ymy1^2*zmz1 + 3/8*xmx1*ymy1^3*zmz1 - 3*xmx1^3*zmz1^2 - 5/2*xmx1*ymy1^2*zmz1^2 - 3*xmx1^2*zmz1^3 - 3/4*xmx1^3*zmz1 - 5/8*xmx1*ymy1^2*zmz1 + 4*xmx1^2*zmz1^2 - 3/4*xmx1*zmz1^3 + xmx1^2*zmz1 + xmx1*zmz1^2 + 1/4*xmx1*zmz1\n",
      "f312:-9/8*xmx1^3*ymy1^3*zmz1^3 + 3/2*xmx1^3*ymy1^3*zmz1^2 + 15/8*xmx1^3*ymy1^2*zmz1^3 + 9/8*xmx1^2*ymy1^3*zmz1^3 + 3/8*xmx1^3*ymy1^3*zmz1 - 5/2*xmx1^3*ymy1^2*zmz1^2 - 3/2*xmx1^2*ymy1^3*zmz1^2 - 15/8*xmx1^2*ymy1^2*zmz1^3 - 5/8*xmx1^3*ymy1^2*zmz1 - 3/8*xmx1^2*ymy1^3*zmz1 + 5/2*xmx1^2*ymy1^2*zmz1^2 - 3/4*xmx1^3*zmz1^3 + 5/8*xmx1^2*ymy1^2*zmz1 + xmx1^3*zmz1^2 + 3/4*xmx1^2*zmz1^3 + 1/4*xmx1^3*zmz1 - xmx1^2*zmz1^2 - 1/4*xmx1^2*zmz1\n",
      "f022:-9/8*xmx1^3*ymy1^3*zmz1^3 + 3/2*xmx1^3*ymy1^3*zmz1^2 + 3/2*xmx1^3*ymy1^2*zmz1^3 + 9/4*xmx1^2*ymy1^3*zmz1^3 + 3/8*xmx1^3*ymy1^3*zmz1 - 2*xmx1^3*ymy1^2*zmz1^2 - 3*xmx1^2*ymy1^3*zmz1^2 + 3/8*xmx1^3*ymy1*zmz1^3 - 3*xmx1^2*ymy1^2*zmz1^3 - 9/8*xmx1*ymy1^3*zmz1^3 - 1/2*xmx1^3*ymy1^2*zmz1 - 3/4*xmx1^2*ymy1^3*zmz1 - 1/2*xmx1^3*ymy1*zmz1^2 + 4*xmx1^2*ymy1^2*zmz1^2 + 3/2*xmx1*ymy1^3*zmz1^2 - 3/4*xmx1^2*ymy1*zmz1^3 + 3/2*xmx1*ymy1^2*zmz1^3 - 1/8*xmx1^3*ymy1*zmz1 + xmx1^2*ymy1^2*zmz1 + 3/8*xmx1*ymy1^3*zmz1 + xmx1^2*ymy1*zmz1^2 - 2*xmx1*ymy1^2*zmz1^2 + 3/8*xmx1*ymy1*zmz1^3 + 1/4*xmx1^2*ymy1*zmz1 - 1/2*xmx1*ymy1^2*zmz1 - 1/2*xmx1*ymy1*zmz1^2 - 1/8*xmx1*ymy1*zmz1\n",
      "f122:27/8*xmx1^3*ymy1^3*zmz1^3 - 9/2*xmx1^3*ymy1^3*zmz1^2 - 9/2*xmx1^3*ymy1^2*zmz1^3 - 45/8*xmx1^2*ymy1^3*zmz1^3 - 9/8*xmx1^3*ymy1^3*zmz1 + 6*xmx1^3*ymy1^2*zmz1^2 + 15/2*xmx1^2*ymy1^3*zmz1^2 - 9/8*xmx1^3*ymy1*zmz1^3 + 15/2*xmx1^2*ymy1^2*zmz1^3 + 3/2*xmx1^3*ymy1^2*zmz1 + 15/8*xmx1^2*ymy1^3*zmz1 + 3/2*xmx1^3*ymy1*zmz1^2 - 10*xmx1^2*ymy1^2*zmz1^2 + 15/8*xmx1^2*ymy1*zmz1^3 + 9/4*ymy1^3*zmz1^3 + 3/8*xmx1^3*ymy1*zmz1 - 5/2*xmx1^2*ymy1^2*zmz1 - 5/2*xmx1^2*ymy1*zmz1^2 - 3*ymy1^3*zmz1^2 - 3*ymy1^2*zmz1^3 - 5/8*xmx1^2*ymy1*zmz1 - 3/4*ymy1^3*zmz1 + 4*ymy1^2*zmz1^2 - 3/4*ymy1*zmz1^3 + ymy1^2*zmz1 + ymy1*zmz1^2 + 1/4*ymy1*zmz1\n",
      "f222:-27/8*xmx1^3*ymy1^3*zmz1^3 + 9/2*xmx1^3*ymy1^3*zmz1^2 + 9/2*xmx1^3*ymy1^2*zmz1^3 + 9/2*xmx1^2*ymy1^3*zmz1^3 + 9/8*xmx1^3*ymy1^3*zmz1 - 6*xmx1^3*ymy1^2*zmz1^2 - 6*xmx1^2*ymy1^3*zmz1^2 + 9/8*xmx1^3*ymy1*zmz1^3 - 6*xmx1^2*ymy1^2*zmz1^3 + 9/8*xmx1*ymy1^3*zmz1^3 - 3/2*xmx1^3*ymy1^2*zmz1 - 3/2*xmx1^2*ymy1^3*zmz1 - 3/2*xmx1^3*ymy1*zmz1^2 + 8*xmx1^2*ymy1^2*zmz1^2 - 3/2*xmx1*ymy1^3*zmz1^2 - 3/2*xmx1^2*ymy1*zmz1^3 - 3/2*xmx1*ymy1^2*zmz1^3 - 3/8*xmx1^3*ymy1*zmz1 + 2*xmx1^2*ymy1^2*zmz1 - 3/8*xmx1*ymy1^3*zmz1 + 2*xmx1^2*ymy1*zmz1^2 + 2*xmx1*ymy1^2*zmz1^2 - 3/8*xmx1*ymy1*zmz1^3 + 1/2*xmx1^2*ymy1*zmz1 + 1/2*xmx1*ymy1^2*zmz1 + 1/2*xmx1*ymy1*zmz1^2 + 1/8*xmx1*ymy1*zmz1\n",
      "f322:9/8*xmx1^3*ymy1^3*zmz1^3 - 3/2*xmx1^3*ymy1^3*zmz1^2 - 3/2*xmx1^3*ymy1^2*zmz1^3 - 9/8*xmx1^2*ymy1^3*zmz1^3 - 3/8*xmx1^3*ymy1^3*zmz1 + 2*xmx1^3*ymy1^2*zmz1^2 + 3/2*xmx1^2*ymy1^3*zmz1^2 - 3/8*xmx1^3*ymy1*zmz1^3 + 3/2*xmx1^2*ymy1^2*zmz1^3 + 1/2*xmx1^3*ymy1^2*zmz1 + 3/8*xmx1^2*ymy1^3*zmz1 + 1/2*xmx1^3*ymy1*zmz1^2 - 2*xmx1^2*ymy1^2*zmz1^2 + 3/8*xmx1^2*ymy1*zmz1^3 + 1/8*xmx1^3*ymy1*zmz1 - 1/2*xmx1^2*ymy1^2*zmz1 - 1/2*xmx1^2*ymy1*zmz1^2 - 1/8*xmx1^2*ymy1*zmz1\n",
      "f032:3/8*xmx1^3*ymy1^3*zmz1^3 - 1/2*xmx1^3*ymy1^3*zmz1^2 - 3/8*xmx1^3*ymy1^2*zmz1^3 - 3/4*xmx1^2*ymy1^3*zmz1^3 - 1/8*xmx1^3*ymy1^3*zmz1 + 1/2*xmx1^3*ymy1^2*zmz1^2 + xmx1^2*ymy1^3*zmz1^2 + 3/4*xmx1^2*ymy1^2*zmz1^3 + 3/8*xmx1*ymy1^3*zmz1^3 + 1/8*xmx1^3*ymy1^2*zmz1 + 1/4*xmx1^2*ymy1^3*zmz1 - xmx1^2*ymy1^2*zmz1^2 - 1/2*xmx1*ymy1^3*zmz1^2 - 3/8*xmx1*ymy1^2*zmz1^3 - 1/4*xmx1^2*ymy1^2*zmz1 - 1/8*xmx1*ymy1^3*zmz1 + 1/2*xmx1*ymy1^2*zmz1^2 + 1/8*xmx1*ymy1^2*zmz1\n",
      "f132:-9/8*xmx1^3*ymy1^3*zmz1^3 + 3/2*xmx1^3*ymy1^3*zmz1^2 + 9/8*xmx1^3*ymy1^2*zmz1^3 + 15/8*xmx1^2*ymy1^3*zmz1^3 + 3/8*xmx1^3*ymy1^3*zmz1 - 3/2*xmx1^3*ymy1^2*zmz1^2 - 5/2*xmx1^2*ymy1^3*zmz1^2 - 15/8*xmx1^2*ymy1^2*zmz1^3 - 3/8*xmx1^3*ymy1^2*zmz1 - 5/8*xmx1^2*ymy1^3*zmz1 + 5/2*xmx1^2*ymy1^2*zmz1^2 - 3/4*ymy1^3*zmz1^3 + 5/8*xmx1^2*ymy1^2*zmz1 + ymy1^3*zmz1^2 + 3/4*ymy1^2*zmz1^3 + 1/4*ymy1^3*zmz1 - ymy1^2*zmz1^2 - 1/4*ymy1^2*zmz1\n",
      "f232:9/8*xmx1^3*ymy1^3*zmz1^3 - 3/2*xmx1^3*ymy1^3*zmz1^2 - 9/8*xmx1^3*ymy1^2*zmz1^3 - 3/2*xmx1^2*ymy1^3*zmz1^3 - 3/8*xmx1^3*ymy1^3*zmz1 + 3/2*xmx1^3*ymy1^2*zmz1^2 + 2*xmx1^2*ymy1^3*zmz1^2 + 3/2*xmx1^2*ymy1^2*zmz1^3 - 3/8*xmx1*ymy1^3*zmz1^3 + 3/8*xmx1^3*ymy1^2*zmz1 + 1/2*xmx1^2*ymy1^3*zmz1 - 2*xmx1^2*ymy1^2*zmz1^2 + 1/2*xmx1*ymy1^3*zmz1^2 + 3/8*xmx1*ymy1^2*zmz1^3 - 1/2*xmx1^2*ymy1^2*zmz1 + 1/8*xmx1*ymy1^3*zmz1 - 1/2*xmx1*ymy1^2*zmz1^2 - 1/8*xmx1*ymy1^2*zmz1\n",
      "f332:-3/8*xmx1^3*ymy1^3*zmz1^3 + 1/2*xmx1^3*ymy1^3*zmz1^2 + 3/8*xmx1^3*ymy1^2*zmz1^3 + 3/8*xmx1^2*ymy1^3*zmz1^3 + 1/8*xmx1^3*ymy1^3*zmz1 - 1/2*xmx1^3*ymy1^2*zmz1^2 - 1/2*xmx1^2*ymy1^3*zmz1^2 - 3/8*xmx1^2*ymy1^2*zmz1^3 - 1/8*xmx1^3*ymy1^2*zmz1 - 1/8*xmx1^2*ymy1^3*zmz1 + 1/2*xmx1^2*ymy1^2*zmz1^2 + 1/8*xmx1^2*ymy1^2*zmz1\n",
      "f003:1/8*xmx1^3*ymy1^3*zmz1^3 - 1/8*xmx1^3*ymy1^3*zmz1^2 - 1/4*xmx1^3*ymy1^2*zmz1^3 - 1/4*xmx1^2*ymy1^3*zmz1^3 + 1/4*xmx1^3*ymy1^2*zmz1^2 + 1/4*xmx1^2*ymy1^3*zmz1^2 + 1/8*xmx1^3*ymy1*zmz1^3 + 1/2*xmx1^2*ymy1^2*zmz1^3 + 1/8*xmx1*ymy1^3*zmz1^3 - 1/8*xmx1^3*ymy1*zmz1^2 - 1/2*xmx1^2*ymy1^2*zmz1^2 - 1/8*xmx1*ymy1^3*zmz1^2 - 1/4*xmx1^2*ymy1*zmz1^3 - 1/4*xmx1*ymy1^2*zmz1^3 + 1/4*xmx1^2*ymy1*zmz1^2 + 1/4*xmx1*ymy1^2*zmz1^2 + 1/8*xmx1*ymy1*zmz1^3 - 1/8*xmx1*ymy1*zmz1^2\n",
      "f103:-3/8*xmx1^3*ymy1^3*zmz1^3 + 3/8*xmx1^3*ymy1^3*zmz1^2 + 3/4*xmx1^3*ymy1^2*zmz1^3 + 5/8*xmx1^2*ymy1^3*zmz1^3 - 3/4*xmx1^3*ymy1^2*zmz1^2 - 5/8*xmx1^2*ymy1^3*zmz1^2 - 3/8*xmx1^3*ymy1*zmz1^3 - 5/4*xmx1^2*ymy1^2*zmz1^3 + 3/8*xmx1^3*ymy1*zmz1^2 + 5/4*xmx1^2*ymy1^2*zmz1^2 + 5/8*xmx1^2*ymy1*zmz1^3 - 1/4*ymy1^3*zmz1^3 - 5/8*xmx1^2*ymy1*zmz1^2 + 1/4*ymy1^3*zmz1^2 + 1/2*ymy1^2*zmz1^3 - 1/2*ymy1^2*zmz1^2 - 1/4*ymy1*zmz1^3 + 1/4*ymy1*zmz1^2\n",
      "f203:3/8*xmx1^3*ymy1^3*zmz1^3 - 3/8*xmx1^3*ymy1^3*zmz1^2 - 3/4*xmx1^3*ymy1^2*zmz1^3 - 1/2*xmx1^2*ymy1^3*zmz1^3 + 3/4*xmx1^3*ymy1^2*zmz1^2 + 1/2*xmx1^2*ymy1^3*zmz1^2 + 3/8*xmx1^3*ymy1*zmz1^3 + xmx1^2*ymy1^2*zmz1^3 - 1/8*xmx1*ymy1^3*zmz1^3 - 3/8*xmx1^3*ymy1*zmz1^2 - xmx1^2*ymy1^2*zmz1^2 + 1/8*xmx1*ymy1^3*zmz1^2 - 1/2*xmx1^2*ymy1*zmz1^3 + 1/4*xmx1*ymy1^2*zmz1^3 + 1/2*xmx1^2*ymy1*zmz1^2 - 1/4*xmx1*ymy1^2*zmz1^2 - 1/8*xmx1*ymy1*zmz1^3 + 1/8*xmx1*ymy1*zmz1^2\n",
      "f303:-1/8*xmx1^3*ymy1^3*zmz1^3 + 1/8*xmx1^3*ymy1^3*zmz1^2 + 1/4*xmx1^3*ymy1^2*zmz1^3 + 1/8*xmx1^2*ymy1^3*zmz1^3 - 1/4*xmx1^3*ymy1^2*zmz1^2 - 1/8*xmx1^2*ymy1^3*zmz1^2 - 1/8*xmx1^3*ymy1*zmz1^3 - 1/4*xmx1^2*ymy1^2*zmz1^3 + 1/8*xmx1^3*ymy1*zmz1^2 + 1/4*xmx1^2*ymy1^2*zmz1^2 + 1/8*xmx1^2*ymy1*zmz1^3 - 1/8*xmx1^2*ymy1*zmz1^2\n",
      "f013:-3/8*xmx1^3*ymy1^3*zmz1^3 + 3/8*xmx1^3*ymy1^3*zmz1^2 + 5/8*xmx1^3*ymy1^2*zmz1^3 + 3/4*xmx1^2*ymy1^3*zmz1^3 - 5/8*xmx1^3*ymy1^2*zmz1^2 - 3/4*xmx1^2*ymy1^3*zmz1^2 - 5/4*xmx1^2*ymy1^2*zmz1^3 - 3/8*xmx1*ymy1^3*zmz1^3 + 5/4*xmx1^2*ymy1^2*zmz1^2 + 3/8*xmx1*ymy1^3*zmz1^2 - 1/4*xmx1^3*zmz1^3 + 5/8*xmx1*ymy1^2*zmz1^3 + 1/4*xmx1^3*zmz1^2 - 5/8*xmx1*ymy1^2*zmz1^2 + 1/2*xmx1^2*zmz1^3 - 1/2*xmx1^2*zmz1^2 - 1/4*xmx1*zmz1^3 + 1/4*xmx1*zmz1^2\n",
      "f113:9/8*xmx1^3*ymy1^3*zmz1^3 - 9/8*xmx1^3*ymy1^3*zmz1^2 - 15/8*xmx1^3*ymy1^2*zmz1^3 - 15/8*xmx1^2*ymy1^3*zmz1^3 + 15/8*xmx1^3*ymy1^2*zmz1^2 + 15/8*xmx1^2*ymy1^3*zmz1^2 + 25/8*xmx1^2*ymy1^2*zmz1^3 - 25/8*xmx1^2*ymy1^2*zmz1^2 + 3/4*xmx1^3*zmz1^3 + 3/4*ymy1^3*zmz1^3 - 3/4*xmx1^3*zmz1^2 - 3/4*ymy1^3*zmz1^2 - 5/4*xmx1^2*zmz1^3 - 5/4*ymy1^2*zmz1^3 + 5/4*xmx1^2*zmz1^2 + 5/4*ymy1^2*zmz1^2 + 1/2*zmz1^3 - 1/2*zmz1^2\n",
      "f213:-9/8*xmx1^3*ymy1^3*zmz1^3 + 9/8*xmx1^3*ymy1^3*zmz1^2 + 15/8*xmx1^3*ymy1^2*zmz1^3 + 3/2*xmx1^2*ymy1^3*zmz1^3 - 15/8*xmx1^3*ymy1^2*zmz1^2 - 3/2*xmx1^2*ymy1^3*zmz1^2 - 5/2*xmx1^2*ymy1^2*zmz1^3 + 3/8*xmx1*ymy1^3*zmz1^3 + 5/2*xmx1^2*ymy1^2*zmz1^2 - 3/8*xmx1*ymy1^3*zmz1^2 - 3/4*xmx1^3*zmz1^3 - 5/8*xmx1*ymy1^2*zmz1^3 + 3/4*xmx1^3*zmz1^2 + 5/8*xmx1*ymy1^2*zmz1^2 + xmx1^2*zmz1^3 - xmx1^2*zmz1^2 + 1/4*xmx1*zmz1^3 - 1/4*xmx1*zmz1^2\n",
      "f313:3/8*xmx1^3*ymy1^3*zmz1^3 - 3/8*xmx1^3*ymy1^3*zmz1^2 - 5/8*xmx1^3*ymy1^2*zmz1^3 - 3/8*xmx1^2*ymy1^3*zmz1^3 + 5/8*xmx1^3*ymy1^2*zmz1^2 + 3/8*xmx1^2*ymy1^3*zmz1^2 + 5/8*xmx1^2*ymy1^2*zmz1^3 - 5/8*xmx1^2*ymy1^2*zmz1^2 + 1/4*xmx1^3*zmz1^3 - 1/4*xmx1^3*zmz1^2 - 1/4*xmx1^2*zmz1^3 + 1/4*xmx1^2*zmz1^2\n",
      "f023:3/8*xmx1^3*ymy1^3*zmz1^3 - 3/8*xmx1^3*ymy1^3*zmz1^2 - 1/2*xmx1^3*ymy1^2*zmz1^3 - 3/4*xmx1^2*ymy1^3*zmz1^3 + 1/2*xmx1^3*ymy1^2*zmz1^2 + 3/4*xmx1^2*ymy1^3*zmz1^2 - 1/8*xmx1^3*ymy1*zmz1^3 + xmx1^2*ymy1^2*zmz1^3 + 3/8*xmx1*ymy1^3*zmz1^3 + 1/8*xmx1^3*ymy1*zmz1^2 - xmx1^2*ymy1^2*zmz1^2 - 3/8*xmx1*ymy1^3*zmz1^2 + 1/4*xmx1^2*ymy1*zmz1^3 - 1/2*xmx1*ymy1^2*zmz1^3 - 1/4*xmx1^2*ymy1*zmz1^2 + 1/2*xmx1*ymy1^2*zmz1^2 - 1/8*xmx1*ymy1*zmz1^3 + 1/8*xmx1*ymy1*zmz1^2\n",
      "f123:-9/8*xmx1^3*ymy1^3*zmz1^3 + 9/8*xmx1^3*ymy1^3*zmz1^2 + 3/2*xmx1^3*ymy1^2*zmz1^3 + 15/8*xmx1^2*ymy1^3*zmz1^3 - 3/2*xmx1^3*ymy1^2*zmz1^2 - 15/8*xmx1^2*ymy1^3*zmz1^2 + 3/8*xmx1^3*ymy1*zmz1^3 - 5/2*xmx1^2*ymy1^2*zmz1^3 - 3/8*xmx1^3*ymy1*zmz1^2 + 5/2*xmx1^2*ymy1^2*zmz1^2 - 5/8*xmx1^2*ymy1*zmz1^3 - 3/4*ymy1^3*zmz1^3 + 5/8*xmx1^2*ymy1*zmz1^2 + 3/4*ymy1^3*zmz1^2 + ymy1^2*zmz1^3 - ymy1^2*zmz1^2 + 1/4*ymy1*zmz1^3 - 1/4*ymy1*zmz1^2\n",
      "f223:9/8*xmx1^3*ymy1^3*zmz1^3 - 9/8*xmx1^3*ymy1^3*zmz1^2 - 3/2*xmx1^3*ymy1^2*zmz1^3 - 3/2*xmx1^2*ymy1^3*zmz1^3 + 3/2*xmx1^3*ymy1^2*zmz1^2 + 3/2*xmx1^2*ymy1^3*zmz1^2 - 3/8*xmx1^3*ymy1*zmz1^3 + 2*xmx1^2*ymy1^2*zmz1^3 - 3/8*xmx1*ymy1^3*zmz1^3 + 3/8*xmx1^3*ymy1*zmz1^2 - 2*xmx1^2*ymy1^2*zmz1^2 + 3/8*xmx1*ymy1^3*zmz1^2 + 1/2*xmx1^2*ymy1*zmz1^3 + 1/2*xmx1*ymy1^2*zmz1^3 - 1/2*xmx1^2*ymy1*zmz1^2 - 1/2*xmx1*ymy1^2*zmz1^2 + 1/8*xmx1*ymy1*zmz1^3 - 1/8*xmx1*ymy1*zmz1^2\n",
      "f323:-3/8*xmx1^3*ymy1^3*zmz1^3 + 3/8*xmx1^3*ymy1^3*zmz1^2 + 1/2*xmx1^3*ymy1^2*zmz1^3 + 3/8*xmx1^2*ymy1^3*zmz1^3 - 1/2*xmx1^3*ymy1^2*zmz1^2 - 3/8*xmx1^2*ymy1^3*zmz1^2 + 1/8*xmx1^3*ymy1*zmz1^3 - 1/2*xmx1^2*ymy1^2*zmz1^3 - 1/8*xmx1^3*ymy1*zmz1^2 + 1/2*xmx1^2*ymy1^2*zmz1^2 - 1/8*xmx1^2*ymy1*zmz1^3 + 1/8*xmx1^2*ymy1*zmz1^2\n",
      "f033:-1/8*xmx1^3*ymy1^3*zmz1^3 + 1/8*xmx1^3*ymy1^3*zmz1^2 + 1/8*xmx1^3*ymy1^2*zmz1^3 + 1/4*xmx1^2*ymy1^3*zmz1^3 - 1/8*xmx1^3*ymy1^2*zmz1^2 - 1/4*xmx1^2*ymy1^3*zmz1^2 - 1/4*xmx1^2*ymy1^2*zmz1^3 - 1/8*xmx1*ymy1^3*zmz1^3 + 1/4*xmx1^2*ymy1^2*zmz1^2 + 1/8*xmx1*ymy1^3*zmz1^2 + 1/8*xmx1*ymy1^2*zmz1^3 - 1/8*xmx1*ymy1^2*zmz1^2\n",
      "f133:3/8*xmx1^3*ymy1^3*zmz1^3 - 3/8*xmx1^3*ymy1^3*zmz1^2 - 3/8*xmx1^3*ymy1^2*zmz1^3 - 5/8*xmx1^2*ymy1^3*zmz1^3 + 3/8*xmx1^3*ymy1^2*zmz1^2 + 5/8*xmx1^2*ymy1^3*zmz1^2 + 5/8*xmx1^2*ymy1^2*zmz1^3 - 5/8*xmx1^2*ymy1^2*zmz1^2 + 1/4*ymy1^3*zmz1^3 - 1/4*ymy1^3*zmz1^2 - 1/4*ymy1^2*zmz1^3 + 1/4*ymy1^2*zmz1^2\n",
      "f233:-3/8*xmx1^3*ymy1^3*zmz1^3 + 3/8*xmx1^3*ymy1^3*zmz1^2 + 3/8*xmx1^3*ymy1^2*zmz1^3 + 1/2*xmx1^2*ymy1^3*zmz1^3 - 3/8*xmx1^3*ymy1^2*zmz1^2 - 1/2*xmx1^2*ymy1^3*zmz1^2 - 1/2*xmx1^2*ymy1^2*zmz1^3 + 1/8*xmx1*ymy1^3*zmz1^3 + 1/2*xmx1^2*ymy1^2*zmz1^2 - 1/8*xmx1*ymy1^3*zmz1^2 - 1/8*xmx1*ymy1^2*zmz1^3 + 1/8*xmx1*ymy1^2*zmz1^2\n",
      "f333:1/8*xmx1^3*ymy1^3*zmz1^3 - 1/8*xmx1^3*ymy1^3*zmz1^2 - 1/8*xmx1^3*ymy1^2*zmz1^3 - 1/8*xmx1^2*ymy1^3*zmz1^3 + 1/8*xmx1^3*ymy1^2*zmz1^2 + 1/8*xmx1^2*ymy1^3*zmz1^2 + 1/8*xmx1^2*ymy1^2*zmz1^3 - 1/8*xmx1^2*ymy1^2*zmz1^2\n"
     ]
    }
   ],
   "source": [
    "c0 = p2(*R3_vars[0])\n",
    "c1 = p2(*R3_vars[1])\n",
    "c2 = p2(*R3_vars[2])\n",
    "c3 = p2(*R3_vars[3])\n",
    "p3 = pz(f0=c0, f1=c1, f2=c2, f3=c3)\n",
    "for mon in R3.gens():\n",
    "    print(str(mon) + \":\" + str(p3.monomial_coefficient(mon)))"
   ]
  },
  {
   "cell_type": "markdown",
   "metadata": {},
   "source": [
    "### A more compact data representation with matrix"
   ]
  },
  {
   "cell_type": "code",
   "execution_count": 14,
   "metadata": {},
   "outputs": [
    {
     "data": {
      "text/plain": [
       "'0.0, 0.0, 0.0, 0.0, 0.0, 0.0, 0.0, 0.0, 0.0, 0.0, 0.0, 0.0, 0.0, 0.0, 0.0, 0.0, 0.0, 0.0, 0.0, 0.0, 0.0, -0.125, 0.25, -0.125, 0.0, 0.25, -0.5, 0.25, 0.0, -0.125, 0.25, -0.125, 0.0, 0.0, 0.0, 0.0, 0.0, 0.25, -0.5, 0.25, 0.0, -0.5, 1.0, -0.5, 0.0, 0.25, -0.5, 0.25, 0.0, 0.0, 0.0, 0.0, 0.0, -0.125, 0.25, -0.125, 0.0, 0.25, -0.5, 0.25, 0.0, -0.125, 0.25, -0.125, 0.0, 0.0, 0.0, 0.0, 0.0, 0.25, -0.5, 0.25, 0.0, -0.5, 1.0, -0.5, 0.0, 0.25, -0.5, 0.25, 0.0, 0.0, 0.0, 0.0, 0.0, 0.0, 0.0, 0.0, 0.0, 0.0, 0.0, 0.0, 0.0, 0.0, 0.0, 0.0, 0.0, 0.0, 0.0, 0.0, 0.0, -0.625, 1.25, -0.625, 0.0, 1.25, -2.5, 1.25, 0.0, -0.625, 1.25, -0.625, 0.0, 0.0, 0.0, 0.0, 0.0, 0.375, -0.75, 0.375, 0.0, -0.75, 1.5, -0.75, 0.0, 0.375, -0.75, 0.375, 0.0, 0.0, 0.0, 0.0, 0.0, 0.0, 0.0, 0.0, 0.0, 0.0, 0.0, 0.0, 0.0, 0.0, 0.0, 0.0, 0.0, 0.0, 0.0, 0.0, 0.0, 0.125, -0.25, 0.125, 0.0, -0.25, 0.5, -0.25, 0.0, 0.125, -0.25, 0.125, 0.0, 0.0, 0.0, 0.0, 0.0, 0.5, -1.0, 0.5, 0.0, -1.0, 2.0, -1.0, 0.0, 0.5, -1.0, 0.5, 0.0, 0.0, 0.0, 0.0, 0.0, -0.375, 0.75, -0.375, 0.0, 0.75, -1.5, 0.75, 0.0, -0.375, 0.75, -0.375, 0.0, 0.0, 0.0, 0.0, 0.0, 0.0, 0.0, 0.0, 0.0, 0.0, 0.0, 0.0, 0.0, 0.0, 0.0, 0.0, 0.0, 0.0, 0.0, 0.0, 0.0, 0.0, 0.0, 0.0, 0.0, 0.0, 0.0, 0.0, 0.0, 0.0, 0.0, 0.0, 0.0, 0.0, 0.0, 0.0, 0.0, -0.125, 0.25, -0.125, 0.0, 0.25, -0.5, 0.25, 0.0, -0.125, 0.25, -0.125, 0.0, 0.0, 0.0, 0.0, 0.0, 0.125, -0.25, 0.125, 0.0, -0.25, 0.5, -0.25, 0.0, 0.125, -0.25, 0.125, 0.0, 0.0, 0.0, 0.0, 0.0, 0.0, 0.0, 0.0, 0.0, 0.0, 0.0, 0.0, 0.0, 0.0, 0.0, 0.0, 0.0, 0.25, -0.5, 0.25, 0.0, 0.0, 0.0, 0.0, 0.0, -0.625, 1.25, -0.625, 0.0, 0.375, -0.75, 0.375, 0.0, -0.5, 1.0, -0.5, 0.0, 0.0, 0.0, 0.0, 0.0, 1.25, -2.5, 1.25, 0.0, -0.75, 1.5, -0.75, 0.0, 0.25, -0.5, 0.25, 0.0, 0.0, 0.0, 0.0, 0.0, -0.625, 1.25, -0.625, 0.0, 0.375, -0.75, 0.375, 0.0, -0.5, 1.0, -0.5, 0.0, 0.0, 0.0, 0.0, 0.0, 1.25, -2.5, 1.25, 0.0, -0.75, 1.5, -0.75, 0.0, 0.0, 0.0, 0.0, 0.0, 0.0, 0.0, 0.0, 0.0, 0.0, 0.0, 0.0, 0.0, 0.0, 0.0, 0.0, 0.0, 1.25, -2.5, 1.25, 0.0, 0.0, 0.0, 0.0, 0.0, -3.125, 6.25, -3.125, 0.0, 1.875, -3.75, 1.875, 0.0, -0.75, 1.5, -0.75, 0.0, 0.0, 0.0, 0.0, 0.0, 1.875, -3.75, 1.875, 0.0, -1.125, 2.25, -1.125, 0.0, 0.0, 0.0, 0.0, 0.0, 0.0, 0.0, 0.0, 0.0, 0.0, 0.0, 0.0, 0.0, 0.0, 0.0, 0.0, 0.0, -0.25, 0.5, -0.25, 0.0, 0.0, 0.0, 0.0, 0.0, 0.625, -1.25, 0.625, 0.0, -0.375, 0.75, -0.375, 0.0, -1.0, 2.0, -1.0, 0.0, 0.0, 0.0, 0.0, 0.0, 2.5, -5.0, 2.5, 0.0, -1.5, 3.0, -1.5, 0.0, 0.75, -1.5, 0.75, 0.0, 0.0, 0.0, 0.0, 0.0, -1.875, 3.75, -1.875, 0.0, 1.125, -2.25, 1.125, 0.0, 0.0, 0.0, 0.0, 0.0, 0.0, 0.0, 0.0, 0.0, 0.0, 0.0, 0.0, 0.0, 0.0, 0.0, 0.0, 0.0, 0.0, 0.0, 0.0, 0.0, 0.0, 0.0, 0.0, 0.0, 0.0, 0.0, 0.0, 0.0, 0.0, 0.0, 0.0, 0.0, 0.25, -0.5, 0.25, 0.0, 0.0, 0.0, 0.0, 0.0, -0.625, 1.25, -0.625, 0.0, 0.375, -0.75, 0.375, 0.0, -0.25, 0.5, -0.25, 0.0, 0.0, 0.0, 0.0, 0.0, 0.625, -1.25, 0.625, 0.0, -0.375, 0.75, -0.375, 0.0, 0.0, 0.0, 0.0, 0.0, 0.0, 0.0, 0.0, 0.0, 0.0, 0.0, 0.0, 0.0, 0.0, 0.0, 0.0, 0.0, 0.0, 0.0, 0.0, 0.0, 0.125, -0.25, 0.125, 0.0, 0.5, -1.0, 0.5, 0.0, -0.375, 0.75, -0.375, 0.0, 0.0, 0.0, 0.0, 0.0, -0.25, 0.5, -0.25, 0.0, -1.0, 2.0, -1.0, 0.0, 0.75, -1.5, 0.75, 0.0, 0.0, 0.0, 0.0, 0.0, 0.125, -0.25, 0.125, 0.0, 0.5, -1.0, 0.5, 0.0, -0.375, 0.75, -0.375, 0.0, 0.0, 0.0, 0.0, 0.0, -0.25, 0.5, -0.25, 0.0, -1.0, 2.0, -1.0, 0.0, 0.75, -1.5, 0.75, 0.0, 0.0, 0.0, 0.0, 0.0, 0.0, 0.0, 0.0, 0.0, 0.0, 0.0, 0.0, 0.0, 0.0, 0.0, 0.0, 0.0, 0.0, 0.0, 0.0, 0.0, 0.625, -1.25, 0.625, 0.0, 2.5, -5.0, 2.5, 0.0, -1.875, 3.75, -1.875, 0.0, 0.0, 0.0, 0.0, 0.0, -0.375, 0.75, -0.375, 0.0, -1.5, 3.0, -1.5, 0.0, 1.125, -2.25, 1.125, 0.0, 0.0, 0.0, 0.0, 0.0, 0.0, 0.0, 0.0, 0.0, 0.0, 0.0, 0.0, 0.0, 0.0, 0.0, 0.0, 0.0, 0.0, 0.0, 0.0, 0.0, -0.125, 0.25, -0.125, 0.0, -0.5, 1.0, -0.5, 0.0, 0.375, -0.75, 0.375, 0.0, 0.0, 0.0, 0.0, 0.0, -0.5, 1.0, -0.5, 0.0, -2.0, 4.0, -2.0, 0.0, 1.5, -3.0, 1.5, 0.0, 0.0, 0.0, 0.0, 0.0, 0.375, -0.75, 0.375, 0.0, 1.5, -3.0, 1.5, 0.0, -1.125, 2.25, -1.125, 0.0, 0.0, 0.0, 0.0, 0.0, 0.0, 0.0, 0.0, 0.0, 0.0, 0.0, 0.0, 0.0, 0.0, 0.0, 0.0, 0.0, 0.0, 0.0, 0.0, 0.0, 0.0, 0.0, 0.0, 0.0, 0.0, 0.0, 0.0, 0.0, 0.0, 0.0, 0.0, 0.0, 0.0, 0.0, 0.0, 0.0, 0.125, -0.25, 0.125, 0.0, 0.5, -1.0, 0.5, 0.0, -0.375, 0.75, -0.375, 0.0, 0.0, 0.0, 0.0, 0.0, -0.125, 0.25, -0.125, 0.0, -0.5, 1.0, -0.5, 0.0, 0.375, -0.75, 0.375, 0.0, 0.0, 0.0, 0.0, 0.0, 0.0, 0.0, 0.0, 0.0, 0.0, 0.0, 0.0, 0.0, 0.0, 0.0, 0.0, 0.0, 0.0, 0.0, 0.0, 0.0, 0.0, 0.0, 0.0, 0.0, -0.125, 0.25, -0.125, 0.0, 0.125, -0.25, 0.125, 0.0, 0.0, 0.0, 0.0, 0.0, 0.0, 0.0, 0.0, 0.0, 0.25, -0.5, 0.25, 0.0, -0.25, 0.5, -0.25, 0.0, 0.0, 0.0, 0.0, 0.0, 0.0, 0.0, 0.0, 0.0, -0.125, 0.25, -0.125, 0.0, 0.125, -0.25, 0.125, 0.0, 0.0, 0.0, 0.0, 0.0, 0.0, 0.0, 0.0, 0.0, 0.25, -0.5, 0.25, 0.0, -0.25, 0.5, -0.25, 0.0, 0.0, 0.0, 0.0, 0.0, 0.0, 0.0, 0.0, 0.0, 0.0, 0.0, 0.0, 0.0, 0.0, 0.0, 0.0, 0.0, 0.0, 0.0, 0.0, 0.0, 0.0, 0.0, 0.0, 0.0, -0.625, 1.25, -0.625, 0.0, 0.625, -1.25, 0.625, 0.0, 0.0, 0.0, 0.0, 0.0, 0.0, 0.0, 0.0, 0.0, 0.375, -0.75, 0.375, 0.0, -0.375, 0.75, -0.375, 0.0, 0.0, 0.0, 0.0, 0.0, 0.0, 0.0, 0.0, 0.0, 0.0, 0.0, 0.0, 0.0, 0.0, 0.0, 0.0, 0.0, 0.0, 0.0, 0.0, 0.0, 0.0, 0.0, 0.0, 0.0, 0.125, -0.25, 0.125, 0.0, -0.125, 0.25, -0.125, 0.0, 0.0, 0.0, 0.0, 0.0, 0.0, 0.0, 0.0, 0.0, 0.5, -1.0, 0.5, 0.0, -0.5, 1.0, -0.5, 0.0, 0.0, 0.0, 0.0, 0.0, 0.0, 0.0, 0.0, 0.0, -0.375, 0.75, -0.375, 0.0, 0.375, -0.75, 0.375, 0.0, 0.0, 0.0, 0.0, 0.0, 0.0, 0.0, 0.0, 0.0, 0.0, 0.0, 0.0, 0.0, 0.0, 0.0, 0.0, 0.0, 0.0, 0.0, 0.0, 0.0, 0.0, 0.0, 0.0, 0.0, 0.0, 0.0, 0.0, 0.0, 0.0, 0.0, 0.0, 0.0, 0.0, 0.0, 0.0, 0.0, 0.0, 0.0, 0.0, 0.0, -0.125, 0.25, -0.125, 0.0, 0.125, -0.25, 0.125, 0.0, 0.0, 0.0, 0.0, 0.0, 0.0, 0.0, 0.0, 0.0, 0.125, -0.25, 0.125, 0.0, -0.125, 0.25, -0.125, 0.0, 0.0, 0.0, 0.0, 0.0, 0.0, 0.0, 0.0, 0.0, 0.0, 0.0, 0.0, 0.0, 0.0, 0.0, 0.0, 0.0, 0.0, 0.0, 0.0, 0.25, 0.0, -0.625, 0.375, -0.5, 0.0, 1.25, -0.75, 0.25, 0.0, -0.625, 0.375, 0.0, 0.0, 0.0, 0.0, -0.5, 0.0, 1.25, -0.75, 1.0, 0.0, -2.5, 1.5, -0.5, 0.0, 1.25, -0.75, 0.0, 0.0, 0.0, 0.0, 0.25, 0.0, -0.625, 0.375, -0.5, 0.0, 1.25, -0.75, 0.25, 0.0, -0.625, 0.375, 0.0, 0.0, 0.0, 0.0, -0.5, 0.0, 1.25, -0.75, 1.0, 0.0, -2.5, 1.5, -0.5, 0.0, 1.25, -0.75, 0.0, 0.0, 0.0, 0.0, 0.0, 0.0, 0.0, 0.0, 0.0, 0.0, 0.0, 0.0, 0.0, 0.0, 0.0, 0.0, 0.0, 0.0, 0.0, 0.0, 1.25, 0.0, -3.125, 1.875, -2.5, 0.0, 6.25, -3.75, 1.25, 0.0, -3.125, 1.875, 0.0, 0.0, 0.0, 0.0, -0.75, 0.0, 1.875, -1.125, 1.5, 0.0, -3.75, 2.25, -0.75, 0.0, 1.875, -1.125, 0.0, 0.0, 0.0, 0.0, 0.0, 0.0, 0.0, 0.0, 0.0, 0.0, 0.0, 0.0, 0.0, 0.0, 0.0, 0.0, 0.0, 0.0, 0.0, 0.0, -0.25, 0.0, 0.625, -0.375, 0.5, 0.0, -1.25, 0.75, -0.25, 0.0, 0.625, -0.375, 0.0, 0.0, 0.0, 0.0, -1.0, 0.0, 2.5, -1.5, 2.0, 0.0, -5.0, 3.0, -1.0, 0.0, 2.5, -1.5, 0.0, 0.0, 0.0, 0.0, 0.75, 0.0, -1.875, 1.125, -1.5, 0.0, 3.75, -2.25, 0.75, 0.0, -1.875, 1.125, 0.0, 0.0, 0.0, 0.0, 0.0, 0.0, 0.0, 0.0, 0.0, 0.0, 0.0, 0.0, 0.0, 0.0, 0.0, 0.0, 0.0, 0.0, 0.0, 0.0, 0.0, 0.0, 0.0, 0.0, 0.0, 0.0, 0.0, 0.0, 0.0, 0.0, 0.0, 0.0, 0.0, 0.0, 0.0, 0.0, 0.25, 0.0, -0.625, 0.375, -0.5, 0.0, 1.25, -0.75, 0.25, 0.0, -0.625, 0.375, 0.0, 0.0, 0.0, 0.0, -0.25, 0.0, 0.625, -0.375, 0.5, 0.0, -1.25, 0.75, -0.25, 0.0, 0.625, -0.375, 0.0, 0.0, 0.0, 0.0, 0.0, 0.0, 0.0, 0.0, 0.0, 0.0, 0.0, 0.0, 0.0, 0.0, 0.0, 0.0, -0.5, 0.0, 1.25, -0.75, 0.0, 0.0, 0.0, 0.0, 1.25, 0.0, -3.125, 1.875, -0.75, 0.0, 1.875, -1.125, 1.0, 0.0, -2.5, 1.5, 0.0, 0.0, 0.0, 0.0, -2.5, 0.0, 6.25, -3.75, 1.5, 0.0, -3.75, 2.25, -0.5, 0.0, 1.25, -0.75, 0.0, 0.0, 0.0, 0.0, 1.25, 0.0, -3.125, 1.875, -0.75, 0.0, 1.875, -1.125, 1.0, 0.0, -2.5, 1.5, 0.0, 0.0, 0.0, 0.0, -2.5, 0.0, 6.25, -3.75, 1.5, 0.0, -3.75, 2.25, 0.0, 0.0, 0.0, 0.0, 0.0, 0.0, 0.0, 0.0, 0.0, 0.0, 0.0, 0.0, 0.0, 0.0, 0.0, 0.0, -2.5, 0.0, 6.25, -3.75, 0.0, 0.0, 0.0, 0.0, 6.25, 0.0, -15.625, 9.375, -3.75, 0.0, 9.375, -5.625, 1.5, 0.0, -3.75, 2.25, 0.0, 0.0, 0.0, 0.0, -3.75, 0.0, 9.375, -5.625, 2.25, 0.0, -5.625, 3.375, 0.0, 0.0, 0.0, 0.0, 0.0, 0.0, 0.0, 0.0, 0.0, 0.0, 0.0, 0.0, 0.0, 0.0, 0.0, 0.0, 0.5, 0.0, -1.25, 0.75, 0.0, 0.0, 0.0, 0.0, -1.25, 0.0, 3.125, -1.875, 0.75, 0.0, -1.875, 1.125, 2.0, 0.0, -5.0, 3.0, 0.0, 0.0, 0.0, 0.0, -5.0, 0.0, 12.5, -7.5, 3.0, 0.0, -7.5, 4.5, -1.5, 0.0, 3.75, -2.25, 0.0, 0.0, 0.0, 0.0, 3.75, 0.0, -9.375, 5.625, -2.25, 0.0, 5.625, -3.375, 0.0, 0.0, 0.0, 0.0, 0.0, 0.0, 0.0, 0.0, 0.0, 0.0, 0.0, 0.0, 0.0, 0.0, 0.0, 0.0, 0.0, 0.0, 0.0, 0.0, 0.0, 0.0, 0.0, 0.0, 0.0, 0.0, 0.0, 0.0, 0.0, 0.0, 0.0, 0.0, -0.5, 0.0, 1.25, -0.75, 0.0, 0.0, 0.0, 0.0, 1.25, 0.0, -3.125, 1.875, -0.75, 0.0, 1.875, -1.125, 0.5, 0.0, -1.25, 0.75, 0.0, 0.0, 0.0, 0.0, -1.25, 0.0, 3.125, -1.875, 0.75, 0.0, -1.875, 1.125, 0.0, 0.0, 0.0, 0.0, 0.0, 0.0, 0.0, 0.0, 0.0, 0.0, 0.0, 0.0, 0.0, 0.0, 0.0, 0.0, 0.0, 0.0, 0.0, 0.0, -0.25, 0.0, 0.625, -0.375, -1.0, 0.0, 2.5, -1.5, 0.75, 0.0, -1.875, 1.125, 0.0, 0.0, 0.0, 0.0, 0.5, 0.0, -1.25, 0.75, 2.0, 0.0, -5.0, 3.0, -1.5, 0.0, 3.75, -2.25, 0.0, 0.0, 0.0, 0.0, -0.25, 0.0, 0.625, -0.375, -1.0, 0.0, 2.5, -1.5, 0.75, 0.0, -1.875, 1.125, 0.0, 0.0, 0.0, 0.0, 0.5, 0.0, -1.25, 0.75, 2.0, 0.0, -5.0, 3.0, -1.5, 0.0, 3.75, -2.25, 0.0, 0.0, 0.0, 0.0, 0.0, 0.0, 0.0, 0.0, 0.0, 0.0, 0.0, 0.0, 0.0, 0.0, 0.0, 0.0, 0.0, 0.0, 0.0, 0.0, -1.25, 0.0, 3.125, -1.875, -5.0, 0.0, 12.5, -7.5, 3.75, 0.0, -9.375, 5.625, 0.0, 0.0, 0.0, 0.0, 0.75, 0.0, -1.875, 1.125, 3.0, 0.0, -7.5, 4.5, -2.25, 0.0, 5.625, -3.375, 0.0, 0.0, 0.0, 0.0, 0.0, 0.0, 0.0, 0.0, 0.0, 0.0, 0.0, 0.0, 0.0, 0.0, 0.0, 0.0, 0.0, 0.0, 0.0, 0.0, 0.25, 0.0, -0.625, 0.375, 1.0, 0.0, -2.5, 1.5, -0.75, 0.0, 1.875, -1.125, 0.0, 0.0, 0.0, 0.0, 1.0, 0.0, -2.5, 1.5, 4.0, 0.0, -10.0, 6.0, -3.0, 0.0, 7.5, -4.5, 0.0, 0.0, 0.0, 0.0, -0.75, 0.0, 1.875, -1.125, -3.0, 0.0, 7.5, -4.5, 2.25, 0.0, -5.625, 3.375, 0.0, 0.0, 0.0, 0.0, 0.0, 0.0, 0.0, 0.0, 0.0, 0.0, 0.0, 0.0, 0.0, 0.0, 0.0, 0.0, 0.0, 0.0, 0.0, 0.0, 0.0, 0.0, 0.0, 0.0, 0.0, 0.0, 0.0, 0.0, 0.0, 0.0, 0.0, 0.0, 0.0, 0.0, 0.0, 0.0, -0.25, 0.0, 0.625, -0.375, -1.0, 0.0, 2.5, -1.5, 0.75, 0.0, -1.875, 1.125, 0.0, 0.0, 0.0, 0.0, 0.25, 0.0, -0.625, 0.375, 1.0, 0.0, -2.5, 1.5, -0.75, 0.0, 1.875, -1.125, 0.0, 0.0, 0.0, 0.0, 0.0, 0.0, 0.0, 0.0, 0.0, 0.0, 0.0, 0.0, 0.0, 0.0, 0.0, 0.0, 0.0, 0.0, 0.0, 0.0, 0.0, 0.0, 0.0, 0.0, 0.25, 0.0, -0.625, 0.375, -0.25, 0.0, 0.625, -0.375, 0.0, 0.0, 0.0, 0.0, 0.0, 0.0, 0.0, 0.0, -0.5, 0.0, 1.25, -0.75, 0.5, 0.0, -1.25, 0.75, 0.0, 0.0, 0.0, 0.0, 0.0, 0.0, 0.0, 0.0, 0.25, 0.0, -0.625, 0.375, -0.25, 0.0, 0.625, -0.375, 0.0, 0.0, 0.0, 0.0, 0.0, 0.0, 0.0, 0.0, -0.5, 0.0, 1.25, -0.75, 0.5, 0.0, -1.25, 0.75, 0.0, 0.0, 0.0, 0.0, 0.0, 0.0, 0.0, 0.0, 0.0, 0.0, 0.0, 0.0, 0.0, 0.0, 0.0, 0.0, 0.0, 0.0, 0.0, 0.0, 0.0, 0.0, 0.0, 0.0, 1.25, 0.0, -3.125, 1.875, -1.25, 0.0, 3.125, -1.875, 0.0, 0.0, 0.0, 0.0, 0.0, 0.0, 0.0, 0.0, -0.75, 0.0, 1.875, -1.125, 0.75, 0.0, -1.875, 1.125, 0.0, 0.0, 0.0, 0.0, 0.0, 0.0, 0.0, 0.0, 0.0, 0.0, 0.0, 0.0, 0.0, 0.0, 0.0, 0.0, 0.0, 0.0, 0.0, 0.0, 0.0, 0.0, 0.0, 0.0, -0.25, 0.0, 0.625, -0.375, 0.25, 0.0, -0.625, 0.375, 0.0, 0.0, 0.0, 0.0, 0.0, 0.0, 0.0, 0.0, -1.0, 0.0, 2.5, -1.5, 1.0, 0.0, -2.5, 1.5, 0.0, 0.0, 0.0, 0.0, 0.0, 0.0, 0.0, 0.0, 0.75, 0.0, -1.875, 1.125, -0.75, 0.0, 1.875, -1.125, 0.0, 0.0, 0.0, 0.0, 0.0, 0.0, 0.0, 0.0, 0.0, 0.0, 0.0, 0.0, 0.0, 0.0, 0.0, 0.0, 0.0, 0.0, 0.0, 0.0, 0.0, 0.0, 0.0, 0.0, 0.0, 0.0, 0.0, 0.0, 0.0, 0.0, 0.0, 0.0, 0.0, 0.0, 0.0, 0.0, 0.0, 0.0, 0.0, 0.0, 0.25, 0.0, -0.625, 0.375, -0.25, 0.0, 0.625, -0.375, 0.0, 0.0, 0.0, 0.0, 0.0, 0.0, 0.0, 0.0, -0.25, 0.0, 0.625, -0.375, 0.25, 0.0, -0.625, 0.375, 0.0, 0.0, 0.0, 0.0, 0.0, 0.0, 0.0, 0.0, 0.0, 0.0, 0.0, 0.0, 0.0, 0.0, 0.0, 0.0, 0.0, 0.0, 0.0, 0.0, 0.0, 0.125, 0.5, -0.375, 0.0, -0.25, -1.0, 0.75, 0.0, 0.125, 0.5, -0.375, 0.0, 0.0, 0.0, 0.0, 0.0, -0.25, -1.0, 0.75, 0.0, 0.5, 2.0, -1.5, 0.0, -0.25, -1.0, 0.75, 0.0, 0.0, 0.0, 0.0, 0.0, 0.125, 0.5, -0.375, 0.0, -0.25, -1.0, 0.75, 0.0, 0.125, 0.5, -0.375, 0.0, 0.0, 0.0, 0.0, 0.0, -0.25, -1.0, 0.75, 0.0, 0.5, 2.0, -1.5, 0.0, -0.25, -1.0, 0.75, 0.0, 0.0, 0.0, 0.0, 0.0, 0.0, 0.0, 0.0, 0.0, 0.0, 0.0, 0.0, 0.0, 0.0, 0.0, 0.0, 0.0, 0.0, 0.0, 0.0, 0.0, 0.625, 2.5, -1.875, 0.0, -1.25, -5.0, 3.75, 0.0, 0.625, 2.5, -1.875, 0.0, 0.0, 0.0, 0.0, 0.0, -0.375, -1.5, 1.125, 0.0, 0.75, 3.0, -2.25, 0.0, -0.375, -1.5, 1.125, 0.0, 0.0, 0.0, 0.0, 0.0, 0.0, 0.0, 0.0, 0.0, 0.0, 0.0, 0.0, 0.0, 0.0, 0.0, 0.0, 0.0, 0.0, 0.0, 0.0, 0.0, -0.125, -0.5, 0.375, 0.0, 0.25, 1.0, -0.75, 0.0, -0.125, -0.5, 0.375, 0.0, 0.0, 0.0, 0.0, 0.0, -0.5, -2.0, 1.5, 0.0, 1.0, 4.0, -3.0, 0.0, -0.5, -2.0, 1.5, 0.0, 0.0, 0.0, 0.0, 0.0, 0.375, 1.5, -1.125, 0.0, -0.75, -3.0, 2.25, 0.0, 0.375, 1.5, -1.125, 0.0, 0.0, 0.0, 0.0, 0.0, 0.0, 0.0, 0.0, 0.0, 0.0, 0.0, 0.0, 0.0, 0.0, 0.0, 0.0, 0.0, 0.0, 0.0, 0.0, 0.0, 0.0, 0.0, 0.0, 0.0, 0.0, 0.0, 0.0, 0.0, 0.0, 0.0, 0.0, 0.0, 0.0, 0.0, 0.0, 0.0, 0.125, 0.5, -0.375, 0.0, -0.25, -1.0, 0.75, 0.0, 0.125, 0.5, -0.375, 0.0, 0.0, 0.0, 0.0, 0.0, -0.125, -0.5, 0.375, 0.0, 0.25, 1.0, -0.75, 0.0, -0.125, -0.5, 0.375, 0.0, 0.0, 0.0, 0.0, 0.0, 0.0, 0.0, 0.0, 0.0, 0.0, 0.0, 0.0, 0.0, 0.0, 0.0, 0.0, 0.0, -0.25, -1.0, 0.75, 0.0, 0.0, 0.0, 0.0, 0.0, 0.625, 2.5, -1.875, 0.0, -0.375, -1.5, 1.125, 0.0, 0.5, 2.0, -1.5, 0.0, 0.0, 0.0, 0.0, 0.0, -1.25, -5.0, 3.75, 0.0, 0.75, 3.0, -2.25, 0.0, -0.25, -1.0, 0.75, 0.0, 0.0, 0.0, 0.0, 0.0, 0.625, 2.5, -1.875, 0.0, -0.375, -1.5, 1.125, 0.0, 0.5, 2.0, -1.5, 0.0, 0.0, 0.0, 0.0, 0.0, -1.25, -5.0, 3.75, 0.0, 0.75, 3.0, -2.25, 0.0, 0.0, 0.0, 0.0, 0.0, 0.0, 0.0, 0.0, 0.0, 0.0, 0.0, 0.0, 0.0, 0.0, 0.0, 0.0, 0.0, -1.25, -5.0, 3.75, 0.0, 0.0, 0.0, 0.0, 0.0, 3.125, 12.5, -9.375, 0.0, -1.875, -7.5, 5.625, 0.0, 0.75, 3.0, -2.25, 0.0, 0.0, 0.0, 0.0, 0.0, -1.875, -7.5, 5.625, 0.0, 1.125, 4.5, -3.375, 0.0, 0.0, 0.0, 0.0, 0.0, 0.0, 0.0, 0.0, 0.0, 0.0, 0.0, 0.0, 0.0, 0.0, 0.0, 0.0, 0.0, 0.25, 1.0, -0.75, 0.0, 0.0, 0.0, 0.0, 0.0, -0.625, -2.5, 1.875, 0.0, 0.375, 1.5, -1.125, 0.0, 1.0, 4.0, -3.0, 0.0, 0.0, 0.0, 0.0, 0.0, -2.5, -10.0, 7.5, 0.0, 1.5, 6.0, -4.5, 0.0, -0.75, -3.0, 2.25, 0.0, 0.0, 0.0, 0.0, 0.0, 1.875, 7.5, -5.625, 0.0, -1.125, -4.5, 3.375, 0.0, 0.0, 0.0, 0.0, 0.0, 0.0, 0.0, 0.0, 0.0, 0.0, 0.0, 0.0, 0.0, 0.0, 0.0, 0.0, 0.0, 0.0, 0.0, 0.0, 0.0, 0.0, 0.0, 0.0, 0.0, 0.0, 0.0, 0.0, 0.0, 0.0, 0.0, 0.0, 0.0, -0.25, -1.0, 0.75, 0.0, 0.0, 0.0, 0.0, 0.0, 0.625, 2.5, -1.875, 0.0, -0.375, -1.5, 1.125, 0.0, 0.25, 1.0, -0.75, 0.0, 0.0, 0.0, 0.0, 0.0, -0.625, -2.5, 1.875, 0.0, 0.375, 1.5, -1.125, 0.0, 0.0, 0.0, 0.0, 0.0, 0.0, 0.0, 0.0, 0.0, 0.0, 0.0, 0.0, 0.0, 0.0, 0.0, 0.0, 0.0, 0.0, 0.0, 0.0, 0.0, -0.125, -0.5, 0.375, 0.0, -0.5, -2.0, 1.5, 0.0, 0.375, 1.5, -1.125, 0.0, 0.0, 0.0, 0.0, 0.0, 0.25, 1.0, -0.75, 0.0, 1.0, 4.0, -3.0, 0.0, -0.75, -3.0, 2.25, 0.0, 0.0, 0.0, 0.0, 0.0, -0.125, -0.5, 0.375, 0.0, -0.5, -2.0, 1.5, 0.0, 0.375, 1.5, -1.125, 0.0, 0.0, 0.0, 0.0, 0.0, 0.25, 1.0, -0.75, 0.0, 1.0, 4.0, -3.0, 0.0, -0.75, -3.0, 2.25, 0.0, 0.0, 0.0, 0.0, 0.0, 0.0, 0.0, 0.0, 0.0, 0.0, 0.0, 0.0, 0.0, 0.0, 0.0, 0.0, 0.0, 0.0, 0.0, 0.0, 0.0, -0.625, -2.5, 1.875, 0.0, -2.5, -10.0, 7.5, 0.0, 1.875, 7.5, -5.625, 0.0, 0.0, 0.0, 0.0, 0.0, 0.375, 1.5, -1.125, 0.0, 1.5, 6.0, -4.5, 0.0, -1.125, -4.5, 3.375, 0.0, 0.0, 0.0, 0.0, 0.0, 0.0, 0.0, 0.0, 0.0, 0.0, 0.0, 0.0, 0.0, 0.0, 0.0, 0.0, 0.0, 0.0, 0.0, 0.0, 0.0, 0.125, 0.5, -0.375, 0.0, 0.5, 2.0, -1.5, 0.0, -0.375, -1.5, 1.125, 0.0, 0.0, 0.0, 0.0, 0.0, 0.5, 2.0, -1.5, 0.0, 2.0, 8.0, -6.0, 0.0, -1.5, -6.0, 4.5, 0.0, 0.0, 0.0, 0.0, 0.0, -0.375, -1.5, 1.125, 0.0, -1.5, -6.0, 4.5, 0.0, 1.125, 4.5, -3.375, 0.0, 0.0, 0.0, 0.0, 0.0, 0.0, 0.0, 0.0, 0.0, 0.0, 0.0, 0.0, 0.0, 0.0, 0.0, 0.0, 0.0, 0.0, 0.0, 0.0, 0.0, 0.0, 0.0, 0.0, 0.0, 0.0, 0.0, 0.0, 0.0, 0.0, 0.0, 0.0, 0.0, 0.0, 0.0, 0.0, 0.0, -0.125, -0.5, 0.375, 0.0, -0.5, -2.0, 1.5, 0.0, 0.375, 1.5, -1.125, 0.0, 0.0, 0.0, 0.0, 0.0, 0.125, 0.5, -0.375, 0.0, 0.5, 2.0, -1.5, 0.0, -0.375, -1.5, 1.125, 0.0, 0.0, 0.0, 0.0, 0.0, 0.0, 0.0, 0.0, 0.0, 0.0, 0.0, 0.0, 0.0, 0.0, 0.0, 0.0, 0.0, 0.0, 0.0, 0.0, 0.0, 0.0, 0.0, 0.0, 0.0, 0.125, 0.5, -0.375, 0.0, -0.125, -0.5, 0.375, 0.0, 0.0, 0.0, 0.0, 0.0, 0.0, 0.0, 0.0, 0.0, -0.25, -1.0, 0.75, 0.0, 0.25, 1.0, -0.75, 0.0, 0.0, 0.0, 0.0, 0.0, 0.0, 0.0, 0.0, 0.0, 0.125, 0.5, -0.375, 0.0, -0.125, -0.5, 0.375, 0.0, 0.0, 0.0, 0.0, 0.0, 0.0, 0.0, 0.0, 0.0, -0.25, -1.0, 0.75, 0.0, 0.25, 1.0, -0.75, 0.0, 0.0, 0.0, 0.0, 0.0, 0.0, 0.0, 0.0, 0.0, 0.0, 0.0, 0.0, 0.0, 0.0, 0.0, 0.0, 0.0, 0.0, 0.0, 0.0, 0.0, 0.0, 0.0, 0.0, 0.0, 0.625, 2.5, -1.875, 0.0, -0.625, -2.5, 1.875, 0.0, 0.0, 0.0, 0.0, 0.0, 0.0, 0.0, 0.0, 0.0, -0.375, -1.5, 1.125, 0.0, 0.375, 1.5, -1.125, 0.0, 0.0, 0.0, 0.0, 0.0, 0.0, 0.0, 0.0, 0.0, 0.0, 0.0, 0.0, 0.0, 0.0, 0.0, 0.0, 0.0, 0.0, 0.0, 0.0, 0.0, 0.0, 0.0, 0.0, 0.0, -0.125, -0.5, 0.375, 0.0, 0.125, 0.5, -0.375, 0.0, 0.0, 0.0, 0.0, 0.0, 0.0, 0.0, 0.0, 0.0, -0.5, -2.0, 1.5, 0.0, 0.5, 2.0, -1.5, 0.0, 0.0, 0.0, 0.0, 0.0, 0.0, 0.0, 0.0, 0.0, 0.375, 1.5, -1.125, 0.0, -0.375, -1.5, 1.125, 0.0, 0.0, 0.0, 0.0, 0.0, 0.0, 0.0, 0.0, 0.0, 0.0, 0.0, 0.0, 0.0, 0.0, 0.0, 0.0, 0.0, 0.0, 0.0, 0.0, 0.0, 0.0, 0.0, 0.0, 0.0, 0.0, 0.0, 0.0, 0.0, 0.0, 0.0, 0.0, 0.0, 0.0, 0.0, 0.0, 0.0, 0.0, 0.0, 0.0, 0.0, 0.125, 0.5, -0.375, 0.0, -0.125, -0.5, 0.375, 0.0, 0.0, 0.0, 0.0, 0.0, 0.0, 0.0, 0.0, 0.0, -0.125, -0.5, 0.375, 0.0, 0.125, 0.5, -0.375, 0.0, 0.0, 0.0, 0.0, 0.0, 0.0, 0.0, 0.0, 0.0, 0.0, 0.0, 0.0, 0.0, 0.0, 0.0, 0.0, 0.0, 0.0, 0.0, 0.0, 0.0, 0.0, -0.125, 0.125, 0.0, 0.0, 0.25, -0.25, 0.0, 0.0, -0.125, 0.125, 0.0, 0.0, 0.0, 0.0, 0.0, 0.0, 0.25, -0.25, 0.0, 0.0, -0.5, 0.5, 0.0, 0.0, 0.25, -0.25, 0.0, 0.0, 0.0, 0.0, 0.0, 0.0, -0.125, 0.125, 0.0, 0.0, 0.25, -0.25, 0.0, 0.0, -0.125, 0.125, 0.0, 0.0, 0.0, 0.0, 0.0, 0.0, 0.25, -0.25, 0.0, 0.0, -0.5, 0.5, 0.0, 0.0, 0.25, -0.25, 0.0, 0.0, 0.0, 0.0, 0.0, 0.0, 0.0, 0.0, 0.0, 0.0, 0.0, 0.0, 0.0, 0.0, 0.0, 0.0, 0.0, 0.0, 0.0, 0.0, 0.0, 0.0, -0.625, 0.625, 0.0, 0.0, 1.25, -1.25, 0.0, 0.0, -0.625, 0.625, 0.0, 0.0, 0.0, 0.0, 0.0, 0.0, 0.375, -0.375, 0.0, 0.0, -0.75, 0.75, 0.0, 0.0, 0.375, -0.375, 0.0, 0.0, 0.0, 0.0, 0.0, 0.0, 0.0, 0.0, 0.0, 0.0, 0.0, 0.0, 0.0, 0.0, 0.0, 0.0, 0.0, 0.0, 0.0, 0.0, 0.0, 0.0, 0.125, -0.125, 0.0, 0.0, -0.25, 0.25, 0.0, 0.0, 0.125, -0.125, 0.0, 0.0, 0.0, 0.0, 0.0, 0.0, 0.5, -0.5, 0.0, 0.0, -1.0, 1.0, 0.0, 0.0, 0.5, -0.5, 0.0, 0.0, 0.0, 0.0, 0.0, 0.0, -0.375, 0.375, 0.0, 0.0, 0.75, -0.75, 0.0, 0.0, -0.375, 0.375, 0.0, 0.0, 0.0, 0.0, 0.0, 0.0, 0.0, 0.0, 0.0, 0.0, 0.0, 0.0, 0.0, 0.0, 0.0, 0.0, 0.0, 0.0, 0.0, 0.0, 0.0, 0.0, 0.0, 0.0, 0.0, 0.0, 0.0, 0.0, 0.0, 0.0, 0.0, 0.0, 0.0, 0.0, 0.0, 0.0, 0.0, 0.0, -0.125, 0.125, 0.0, 0.0, 0.25, -0.25, 0.0, 0.0, -0.125, 0.125, 0.0, 0.0, 0.0, 0.0, 0.0, 0.0, 0.125, -0.125, 0.0, 0.0, -0.25, 0.25, 0.0, 0.0, 0.125, -0.125, 0.0, 0.0, 0.0, 0.0, 0.0, 0.0, 0.0, 0.0, 0.0, 0.0, 0.0, 0.0, 0.0, 0.0, 0.0, 0.0, 0.0, 0.0, 0.25, -0.25, 0.0, 0.0, 0.0, 0.0, 0.0, 0.0, -0.625, 0.625, 0.0, 0.0, 0.375, -0.375, 0.0, 0.0, -0.5, 0.5, 0.0, 0.0, 0.0, 0.0, 0.0, 0.0, 1.25, -1.25, 0.0, 0.0, -0.75, 0.75, 0.0, 0.0, 0.25, -0.25, 0.0, 0.0, 0.0, 0.0, 0.0, 0.0, -0.625, 0.625, 0.0, 0.0, 0.375, -0.375, 0.0, 0.0, -0.5, 0.5, 0.0, 0.0, 0.0, 0.0, 0.0, 0.0, 1.25, -1.25, 0.0, 0.0, -0.75, 0.75, 0.0, 0.0, 0.0, 0.0, 0.0, 0.0, 0.0, 0.0, 0.0, 0.0, 0.0, 0.0, 0.0, 0.0, 0.0, 0.0, 0.0, 0.0, 1.25, -1.25, 0.0, 0.0, 0.0, 0.0, 0.0, 0.0, -3.125, 3.125, 0.0, 0.0, 1.875, -1.875, 0.0, 0.0, -0.75, 0.75, 0.0, 0.0, 0.0, 0.0, 0.0, 0.0, 1.875, -1.875, 0.0, 0.0, -1.125, 1.125, 0.0, 0.0, 0.0, 0.0, 0.0, 0.0, 0.0, 0.0, 0.0, 0.0, 0.0, 0.0, 0.0, 0.0, 0.0, 0.0, 0.0, 0.0, -0.25, 0.25, 0.0, 0.0, 0.0, 0.0, 0.0, 0.0, 0.625, -0.625, 0.0, 0.0, -0.375, 0.375, 0.0, 0.0, -1.0, 1.0, 0.0, 0.0, 0.0, 0.0, 0.0, 0.0, 2.5, -2.5, 0.0, 0.0, -1.5, 1.5, 0.0, 0.0, 0.75, -0.75, 0.0, 0.0, 0.0, 0.0, 0.0, 0.0, -1.875, 1.875, 0.0, 0.0, 1.125, -1.125, 0.0, 0.0, 0.0, 0.0, 0.0, 0.0, 0.0, 0.0, 0.0, 0.0, 0.0, 0.0, 0.0, 0.0, 0.0, 0.0, 0.0, 0.0, 0.0, 0.0, 0.0, 0.0, 0.0, 0.0, 0.0, 0.0, 0.0, 0.0, 0.0, 0.0, 0.0, 0.0, 0.0, 0.0, 0.25, -0.25, 0.0, 0.0, 0.0, 0.0, 0.0, 0.0, -0.625, 0.625, 0.0, 0.0, 0.375, -0.375, 0.0, 0.0, -0.25, 0.25, 0.0, 0.0, 0.0, 0.0, 0.0, 0.0, 0.625, -0.625, 0.0, 0.0, -0.375, 0.375, 0.0, 0.0, 0.0, 0.0, 0.0, 0.0, 0.0, 0.0, 0.0, 0.0, 0.0, 0.0, 0.0, 0.0, 0.0, 0.0, 0.0, 0.0, 0.0, 0.0, 0.0, 0.0, 0.125, -0.125, 0.0, 0.0, 0.5, -0.5, 0.0, 0.0, -0.375, 0.375, 0.0, 0.0, 0.0, 0.0, 0.0, 0.0, -0.25, 0.25, 0.0, 0.0, -1.0, 1.0, 0.0, 0.0, 0.75, -0.75, 0.0, 0.0, 0.0, 0.0, 0.0, 0.0, 0.125, -0.125, 0.0, 0.0, 0.5, -0.5, 0.0, 0.0, -0.375, 0.375, 0.0, 0.0, 0.0, 0.0, 0.0, 0.0, -0.25, 0.25, 0.0, 0.0, -1.0, 1.0, 0.0, 0.0, 0.75, -0.75, 0.0, 0.0, 0.0, 0.0, 0.0, 0.0, 0.0, 0.0, 0.0, 0.0, 0.0, 0.0, 0.0, 0.0, 0.0, 0.0, 0.0, 0.0, 0.0, 0.0, 0.0, 0.0, 0.625, -0.625, 0.0, 0.0, 2.5, -2.5, 0.0, 0.0, -1.875, 1.875, 0.0, 0.0, 0.0, 0.0, 0.0, 0.0, -0.375, 0.375, 0.0, 0.0, -1.5, 1.5, 0.0, 0.0, 1.125, -1.125, 0.0, 0.0, 0.0, 0.0, 0.0, 0.0, 0.0, 0.0, 0.0, 0.0, 0.0, 0.0, 0.0, 0.0, 0.0, 0.0, 0.0, 0.0, 0.0, 0.0, 0.0, 0.0, -0.125, 0.125, 0.0, 0.0, -0.5, 0.5, 0.0, 0.0, 0.375, -0.375, 0.0, 0.0, 0.0, 0.0, 0.0, 0.0, -0.5, 0.5, 0.0, 0.0, -2.0, 2.0, 0.0, 0.0, 1.5, -1.5, 0.0, 0.0, 0.0, 0.0, 0.0, 0.0, 0.375, -0.375, 0.0, 0.0, 1.5, -1.5, 0.0, 0.0, -1.125, 1.125, 0.0, 0.0, 0.0, 0.0, 0.0, 0.0, 0.0, 0.0, 0.0, 0.0, 0.0, 0.0, 0.0, 0.0, 0.0, 0.0, 0.0, 0.0, 0.0, 0.0, 0.0, 0.0, 0.0, 0.0, 0.0, 0.0, 0.0, 0.0, 0.0, 0.0, 0.0, 0.0, 0.0, 0.0, 0.0, 0.0, 0.0, 0.0, 0.125, -0.125, 0.0, 0.0, 0.5, -0.5, 0.0, 0.0, -0.375, 0.375, 0.0, 0.0, 0.0, 0.0, 0.0, 0.0, -0.125, 0.125, 0.0, 0.0, -0.5, 0.5, 0.0, 0.0, 0.375, -0.375, 0.0, 0.0, 0.0, 0.0, 0.0, 0.0, 0.0, 0.0, 0.0, 0.0, 0.0, 0.0, 0.0, 0.0, 0.0, 0.0, 0.0, 0.0, 0.0, 0.0, 0.0, 0.0, 0.0, 0.0, 0.0, 0.0, -0.125, 0.125, 0.0, 0.0, 0.125, -0.125, 0.0, 0.0, 0.0, 0.0, 0.0, 0.0, 0.0, 0.0, 0.0, 0.0, 0.25, -0.25, 0.0, 0.0, -0.25, 0.25, 0.0, 0.0, 0.0, 0.0, 0.0, 0.0, 0.0, 0.0, 0.0, 0.0, -0.125, 0.125, 0.0, 0.0, 0.125, -0.125, 0.0, 0.0, 0.0, 0.0, 0.0, 0.0, 0.0, 0.0, 0.0, 0.0, 0.25, -0.25, 0.0, 0.0, -0.25, 0.25, 0.0, 0.0, 0.0, 0.0, 0.0, 0.0, 0.0, 0.0, 0.0, 0.0, 0.0, 0.0, 0.0, 0.0, 0.0, 0.0, 0.0, 0.0, 0.0, 0.0, 0.0, 0.0, 0.0, 0.0, 0.0, 0.0, -0.625, 0.625, 0.0, 0.0, 0.625, -0.625, 0.0, 0.0, 0.0, 0.0, 0.0, 0.0, 0.0, 0.0, 0.0, 0.0, 0.375, -0.375, 0.0, 0.0, -0.375, 0.375, 0.0, 0.0, 0.0, 0.0, 0.0, 0.0, 0.0, 0.0, 0.0, 0.0, 0.0, 0.0, 0.0, 0.0, 0.0, 0.0, 0.0, 0.0, 0.0, 0.0, 0.0, 0.0, 0.0, 0.0, 0.0, 0.0, 0.125, -0.125, 0.0, 0.0, -0.125, 0.125, 0.0, 0.0, 0.0, 0.0, 0.0, 0.0, 0.0, 0.0, 0.0, 0.0, 0.5, -0.5, 0.0, 0.0, -0.5, 0.5, 0.0, 0.0, 0.0, 0.0, 0.0, 0.0, 0.0, 0.0, 0.0, 0.0, -0.375, 0.375, 0.0, 0.0, 0.375, -0.375, 0.0, 0.0, 0.0, 0.0, 0.0, 0.0, 0.0, 0.0, 0.0, 0.0, 0.0, 0.0, 0.0, 0.0, 0.0, 0.0, 0.0, 0.0, 0.0, 0.0, 0.0, 0.0, 0.0, 0.0, 0.0, 0.0, 0.0, 0.0, 0.0, 0.0, 0.0, 0.0, 0.0, 0.0, 0.0, 0.0, 0.0, 0.0, 0.0, 0.0, 0.0, 0.0, -0.125, 0.125, 0.0, 0.0, 0.125, -0.125, 0.0, 0.0, 0.0, 0.0, 0.0, 0.0, 0.0, 0.0, 0.0, 0.0, 0.125, -0.125, 0.0, 0.0, -0.125, 0.125'"
      ]
     },
     "execution_count": 14,
     "metadata": {},
     "output_type": "execute_result"
    }
   ],
   "source": [
    "pos_mons = [xmx1^i*ymy1^j*zmz1^k for i,j,k in product(*[range(4)]*3)]\n",
    "M = Matrix([[p3.monomial_coefficient(val_mon).monomial_coefficient(pos_mon) for pos_mon in pos_mons] for val_mon in R3.gens()])\n",
    "coeff_string = str(list(np.array(M).ravel()))[1:-1]\n",
    "coeff_string"
   ]
  },
  {
   "cell_type": "code",
   "execution_count": 15,
   "metadata": {},
   "outputs": [],
   "source": [
    "with open(\"cubic_3D_coefficients.inc\", \"w\") as file:\n",
    "    file.write(coeff_string)"
   ]
  },
  {
   "cell_type": "code",
   "execution_count": null,
   "metadata": {},
   "outputs": [],
   "source": []
  }
 ],
 "metadata": {
  "kernelspec": {
   "display_name": "SageMath 9.0",
   "language": "sage",
   "name": "sagemath"
  },
  "language_info": {
   "codemirror_mode": {
    "name": "ipython",
    "version": 3
   },
   "file_extension": ".py",
   "mimetype": "text/x-python",
   "name": "python",
   "nbconvert_exporter": "python",
   "pygments_lexer": "ipython3",
   "version": "3.7.3"
  }
 },
 "nbformat": 4,
 "nbformat_minor": 1
}
