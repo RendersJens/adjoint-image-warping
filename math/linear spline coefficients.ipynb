{
 "cells": [
  {
   "cell_type": "markdown",
   "metadata": {},
   "source": [
    "1D linear spline coefficients:\n",
    "=============================="
   ]
  },
  {
   "cell_type": "code",
   "execution_count": 1,
   "metadata": {},
   "outputs": [],
   "source": [
    "S.<xmx1, ymy1, zmz1> = PolynomialRing(QQ)\n",
    "R.<f1,f2> = PolynomialRing(S)"
   ]
  },
  {
   "cell_type": "code",
   "execution_count": 2,
   "metadata": {},
   "outputs": [
    {
     "data": {
      "text/html": [
       "<html><script type=\"math/tex; mode=display\">\\newcommand{\\Bold}[1]{\\mathbf{#1}}\\left(\\begin{array}{rr}\n",
       "0 & 1 \\\\\n",
       "1 & 1\n",
       "\\end{array}\\right) c = \\left(\\begin{array}{r}\n",
       "f_{1} \\\\\n",
       "f_{2}\n",
       "\\end{array}\\right)</script></html>"
      ],
      "text/plain": [
       "[0 1]\n",
       "[1 1] c = [f1]\n",
       "[f2]"
      ]
     },
     "metadata": {},
     "output_type": "display_data"
    }
   ],
   "source": [
    "A = Matrix(R, [[0, 1],\n",
    "               [1, 1]])\n",
    "b = vector(R, [f1, f2])\n",
    "\n",
    "pretty_print(A, LatexExpr(\"c =\"), Matrix(b).T)"
   ]
  },
  {
   "cell_type": "code",
   "execution_count": 3,
   "metadata": {},
   "outputs": [
    {
     "name": "stdout",
     "output_type": "stream",
     "text": [
      "[1, 1]\n",
      "(-xmx1 + 1)*f1 + xmx1*f2\n"
     ]
    }
   ],
   "source": [
    "c = A \\ b\n",
    "\n",
    "# the coefficients of c are now in the fraction field of S, but the denominators are all 1\n",
    "print(list(map(lambda x: x.denominator(), c)))\n",
    "\n",
    "# so we can just take the numerators\n",
    "c = list(map(lambda x: x.numerator(), c))\n",
    "p = c[0]*(xmx1) + c[1]\n",
    "print(p)"
   ]
  },
  {
   "cell_type": "markdown",
   "metadata": {},
   "source": [
    "2D linear spline coefficients\n",
    "============================="
   ]
  },
  {
   "cell_type": "code",
   "execution_count": 4,
   "metadata": {},
   "outputs": [],
   "source": [
    "R2.<f11,f21,f12,f22> = PolynomialRing(S)"
   ]
  },
  {
   "cell_type": "code",
   "execution_count": 5,
   "metadata": {},
   "outputs": [
    {
     "data": {
      "text/plain": [
       "(-ymy1 + 1)*f1 + ymy1*f2"
      ]
     },
     "execution_count": 5,
     "metadata": {},
     "output_type": "execute_result"
    }
   ],
   "source": [
    "py = 0\n",
    "for mon in [f1, f2]:\n",
    "    py += p.monomial_coefficient(mon)(ymy1, 0, 0)*mon\n",
    "py"
   ]
  },
  {
   "cell_type": "code",
   "execution_count": 6,
   "metadata": {},
   "outputs": [
    {
     "name": "stdout",
     "output_type": "stream",
     "text": [
      "f11:xmx1*ymy1 - xmx1 - ymy1 + 1\n",
      "f21:-xmx1*ymy1 + xmx1\n",
      "f12:-xmx1*ymy1 + ymy1\n",
      "f22:xmx1*ymy1\n"
     ]
    }
   ],
   "source": [
    "b1 = p(f1=f11, f2=f21)\n",
    "b2 = p(f1=f12, f2=f22)\n",
    "p2 = py(f1=b1, f2=b2)\n",
    "for mon in [f11,f21,f12,f22]:\n",
    "    print(str(mon) + \":\" + str(p2.monomial_coefficient(mon)))"
   ]
  },
  {
   "cell_type": "code",
   "execution_count": 7,
   "metadata": {},
   "outputs": [
    {
     "name": "stdout",
     "output_type": "stream",
     "text": [
      "f11:xmx1*ymy1 - xmx1 - ymy1 + 1\n",
      "f21:-xmx1*ymy1 + xmx1\n",
      "f12:-xmx1*ymy1 + ymy1\n",
      "f22:xmx1*ymy1\n"
     ]
    }
   ],
   "source": [
    "# the same polynomials can also be represented like this:\n",
    "x2mx = 1 - xmx1\n",
    "y2my = 1 - ymy1\n",
    "print(\"f11:\" + str(x2mx*y2my))\n",
    "print(\"f21:\" + str(xmx1*y2my))\n",
    "print(\"f12:\" + str(x2mx*ymy1))\n",
    "print(\"f22:\" + str(xmx1*ymy1))"
   ]
  },
  {
   "cell_type": "markdown",
   "metadata": {},
   "source": [
    "3D linear spline coefficients\n",
    "============================="
   ]
  },
  {
   "cell_type": "code",
   "execution_count": 8,
   "metadata": {},
   "outputs": [],
   "source": [
    "R2.<f111, f211, f121, f221, f112, f212, f122, f222> = PolynomialRing(S)"
   ]
  },
  {
   "cell_type": "code",
   "execution_count": 9,
   "metadata": {},
   "outputs": [
    {
     "data": {
      "text/plain": [
       "(-zmz1 + 1)*f1 + zmz1*f2"
      ]
     },
     "execution_count": 9,
     "metadata": {},
     "output_type": "execute_result"
    }
   ],
   "source": [
    "pz = 0\n",
    "for mon in [f1, f2]:\n",
    "    pz += p.monomial_coefficient(mon)(zmz1, 0, 0)*mon\n",
    "pz"
   ]
  },
  {
   "cell_type": "code",
   "execution_count": 10,
   "metadata": {},
   "outputs": [
    {
     "name": "stdout",
     "output_type": "stream",
     "text": [
      "f111:-xmx1*ymy1*zmz1 + xmx1*ymy1 + xmx1*zmz1 + ymy1*zmz1 - xmx1 - ymy1 - zmz1 + 1\n",
      "f211:xmx1*ymy1*zmz1 - xmx1*ymy1 - xmx1*zmz1 + xmx1\n",
      "f121:xmx1*ymy1*zmz1 - xmx1*ymy1 - ymy1*zmz1 + ymy1\n",
      "f221:-xmx1*ymy1*zmz1 + xmx1*ymy1\n",
      "f112:xmx1*ymy1*zmz1 - xmx1*zmz1 - ymy1*zmz1 + zmz1\n",
      "f212:-xmx1*ymy1*zmz1 + xmx1*zmz1\n",
      "f122:-xmx1*ymy1*zmz1 + ymy1*zmz1\n",
      "f222:xmx1*ymy1*zmz1\n"
     ]
    }
   ],
   "source": [
    "c1 = p2(f111, f211, f121, f221)\n",
    "c2 = p2(f112, f212, f122, f222)\n",
    "p3 = pz(f1=c1, f2=c2)\n",
    "for mon in [f111, f211, f121, f221, f112, f212, f122, f222]:\n",
    "    print(str(mon) + \":\" + str(p3.monomial_coefficient(mon)))"
   ]
  },
  {
   "cell_type": "code",
   "execution_count": 11,
   "metadata": {},
   "outputs": [
    {
     "name": "stdout",
     "output_type": "stream",
     "text": [
      "f111:-xmx1*ymy1*zmz1 + xmx1*ymy1 + xmx1*zmz1 + ymy1*zmz1 - xmx1 - ymy1 - zmz1 + 1\n",
      "f211:xmx1*ymy1*zmz1 - xmx1*ymy1 - xmx1*zmz1 + xmx1\n",
      "f121:xmx1*ymy1*zmz1 - xmx1*ymy1 - ymy1*zmz1 + ymy1\n",
      "f221:-xmx1*ymy1*zmz1 + xmx1*ymy1\n",
      "f112:xmx1*ymy1*zmz1 - xmx1*zmz1 - ymy1*zmz1 + zmz1\n",
      "f212:-xmx1*ymy1*zmz1 + xmx1*zmz1\n",
      "f122:-xmx1*ymy1*zmz1 + ymy1*zmz1\n",
      "f222:xmx1*ymy1*zmz1\n"
     ]
    }
   ],
   "source": [
    "# the same polynomials can also be represented like this:\n",
    "x2mx = 1 - xmx1\n",
    "y2my = 1 - ymy1\n",
    "z2mz = 1 - zmz1\n",
    "print(\"f111:\" + str(x2mx*y2my*z2mz))\n",
    "print(\"f211:\" + str(xmx1*y2my*z2mz))\n",
    "print(\"f121:\" + str(x2mx*ymy1*z2mz))\n",
    "print(\"f221:\" + str(xmx1*ymy1*z2mz))\n",
    "print(\"f112:\" + str(x2mx*y2my*zmz1))\n",
    "print(\"f212:\" + str(xmx1*y2my*zmz1))\n",
    "print(\"f122:\" + str(x2mx*ymy1*zmz1))\n",
    "print(\"f222:\" + str(xmx1*ymy1*zmz1))"
   ]
  },
  {
   "cell_type": "code",
   "execution_count": null,
   "metadata": {},
   "outputs": [],
   "source": []
  }
 ],
 "metadata": {
  "kernelspec": {
   "display_name": "SageMath 9.0",
   "language": "sage",
   "name": "sagemath"
  },
  "language_info": {
   "codemirror_mode": {
    "name": "ipython",
    "version": 3
   },
   "file_extension": ".py",
   "mimetype": "text/x-python",
   "name": "python",
   "nbconvert_exporter": "python",
   "pygments_lexer": "ipython3",
   "version": "3.7.3"
  }
 },
 "nbformat": 4,
 "nbformat_minor": 1
}
